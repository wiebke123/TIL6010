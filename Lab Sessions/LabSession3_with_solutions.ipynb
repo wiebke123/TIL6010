{
 "cells": [
  {
   "cell_type": "markdown",
   "source": [
    "In this Lab session, you will be working with pandas. The selected dataset could be downloaded at <https://www.kaggle.com/luiscorter/netflix-original-films-imdb-scores>. From there, a more thorough description of the data can be found.  \n",
    "For your convenience, we have downloaded the data and place it under folder `data`."
   ],
   "metadata": {}
  },
  {
   "cell_type": "markdown",
   "source": [
    "# Data Import"
   ],
   "metadata": {}
  },
  {
   "cell_type": "markdown",
   "source": [
    "First, import pandas"
   ],
   "metadata": {}
  },
  {
   "cell_type": "code",
   "execution_count": 1,
   "source": [
    "import pandas as pd"
   ],
   "outputs": [],
   "metadata": {}
  },
  {
   "cell_type": "markdown",
   "source": [
    "Specify the path to the data file `NetflixOriginals.csv`. By default, it is under the `data` directory which is under the same directory as this notebook"
   ],
   "metadata": {}
  },
  {
   "cell_type": "code",
   "execution_count": 2,
   "source": [
    "file_path = 'data/NetflixOriginals.csv'"
   ],
   "outputs": [],
   "metadata": {}
  },
  {
   "cell_type": "markdown",
   "source": [
    "As you already see, it is a csv file. Use a text editor to open the file and find out which delimiter is used."
   ],
   "metadata": {}
  },
  {
   "cell_type": "code",
   "execution_count": 3,
   "source": [
    "delimiter = ','"
   ],
   "outputs": [],
   "metadata": {}
  },
  {
   "cell_type": "markdown",
   "source": [
    "Now, use pandas and the above information to load the data into a dataframe."
   ],
   "metadata": {}
  },
  {
   "cell_type": "code",
   "execution_count": 4,
   "source": [
    "df = pd.read_csv(file_path, delimiter=delimiter)"
   ],
   "outputs": [],
   "metadata": {}
  },
  {
   "cell_type": "markdown",
   "source": [
    "Print the *last* 15 lines of the dataframe."
   ],
   "metadata": {}
  },
  {
   "cell_type": "code",
   "execution_count": 5,
   "source": [
    "df.tail(15)"
   ],
   "outputs": [
    {
     "output_type": "execute_result",
     "data": {
      "text/html": [
       "<div>\n",
       "<style scoped>\n",
       "    .dataframe tbody tr th:only-of-type {\n",
       "        vertical-align: middle;\n",
       "    }\n",
       "\n",
       "    .dataframe tbody tr th {\n",
       "        vertical-align: top;\n",
       "    }\n",
       "\n",
       "    .dataframe thead th {\n",
       "        text-align: right;\n",
       "    }\n",
       "</style>\n",
       "<table border=\"1\" class=\"dataframe\">\n",
       "  <thead>\n",
       "    <tr style=\"text-align: right;\">\n",
       "      <th></th>\n",
       "      <th>Title</th>\n",
       "      <th>Genre</th>\n",
       "      <th>Premiere</th>\n",
       "      <th>Runtime</th>\n",
       "      <th>IMDB Score</th>\n",
       "      <th>Language</th>\n",
       "    </tr>\n",
       "  </thead>\n",
       "  <tbody>\n",
       "    <tr>\n",
       "      <th>569</th>\n",
       "      <td>My Octopus Teacher</td>\n",
       "      <td>Documentary</td>\n",
       "      <td>September 7, 2020</td>\n",
       "      <td>85</td>\n",
       "      <td>8.1</td>\n",
       "      <td>English</td>\n",
       "    </tr>\n",
       "    <tr>\n",
       "      <th>570</th>\n",
       "      <td>Rising Phoenix</td>\n",
       "      <td>Documentary</td>\n",
       "      <td>August 26, 2020</td>\n",
       "      <td>106</td>\n",
       "      <td>8.1</td>\n",
       "      <td>English</td>\n",
       "    </tr>\n",
       "    <tr>\n",
       "      <th>571</th>\n",
       "      <td>13th</td>\n",
       "      <td>Documentary</td>\n",
       "      <td>October 7, 2016</td>\n",
       "      <td>100</td>\n",
       "      <td>8.2</td>\n",
       "      <td>English</td>\n",
       "    </tr>\n",
       "    <tr>\n",
       "      <th>572</th>\n",
       "      <td>Disclosure: Trans Lives on Screen</td>\n",
       "      <td>Documentary</td>\n",
       "      <td>June 19, 2020</td>\n",
       "      <td>107</td>\n",
       "      <td>8.2</td>\n",
       "      <td>English</td>\n",
       "    </tr>\n",
       "    <tr>\n",
       "      <th>573</th>\n",
       "      <td>Klaus</td>\n",
       "      <td>Animation/Christmas/Comedy/Adventure</td>\n",
       "      <td>November 15, 2019</td>\n",
       "      <td>97</td>\n",
       "      <td>8.2</td>\n",
       "      <td>English</td>\n",
       "    </tr>\n",
       "    <tr>\n",
       "      <th>574</th>\n",
       "      <td>Seaspiracy</td>\n",
       "      <td>Documentary</td>\n",
       "      <td>March 24, 2021</td>\n",
       "      <td>89</td>\n",
       "      <td>8.2</td>\n",
       "      <td>English</td>\n",
       "    </tr>\n",
       "    <tr>\n",
       "      <th>575</th>\n",
       "      <td>The Three Deaths of Marisela Escobedo</td>\n",
       "      <td>Documentary</td>\n",
       "      <td>October 14, 2020</td>\n",
       "      <td>109</td>\n",
       "      <td>8.2</td>\n",
       "      <td>Spanish</td>\n",
       "    </tr>\n",
       "    <tr>\n",
       "      <th>576</th>\n",
       "      <td>Cuba and the Cameraman</td>\n",
       "      <td>Documentary</td>\n",
       "      <td>November 24, 2017</td>\n",
       "      <td>114</td>\n",
       "      <td>8.3</td>\n",
       "      <td>English</td>\n",
       "    </tr>\n",
       "    <tr>\n",
       "      <th>577</th>\n",
       "      <td>Dancing with the Birds</td>\n",
       "      <td>Documentary</td>\n",
       "      <td>October 23, 2019</td>\n",
       "      <td>51</td>\n",
       "      <td>8.3</td>\n",
       "      <td>English</td>\n",
       "    </tr>\n",
       "    <tr>\n",
       "      <th>578</th>\n",
       "      <td>Ben Platt: Live from Radio City Music Hall</td>\n",
       "      <td>Concert Film</td>\n",
       "      <td>May 20, 2020</td>\n",
       "      <td>85</td>\n",
       "      <td>8.4</td>\n",
       "      <td>English</td>\n",
       "    </tr>\n",
       "    <tr>\n",
       "      <th>579</th>\n",
       "      <td>Taylor Swift: Reputation Stadium Tour</td>\n",
       "      <td>Concert Film</td>\n",
       "      <td>December 31, 2018</td>\n",
       "      <td>125</td>\n",
       "      <td>8.4</td>\n",
       "      <td>English</td>\n",
       "    </tr>\n",
       "    <tr>\n",
       "      <th>580</th>\n",
       "      <td>Winter on Fire: Ukraine's Fight for Freedom</td>\n",
       "      <td>Documentary</td>\n",
       "      <td>October 9, 2015</td>\n",
       "      <td>91</td>\n",
       "      <td>8.4</td>\n",
       "      <td>English/Ukranian/Russian</td>\n",
       "    </tr>\n",
       "    <tr>\n",
       "      <th>581</th>\n",
       "      <td>Springsteen on Broadway</td>\n",
       "      <td>One-man show</td>\n",
       "      <td>December 16, 2018</td>\n",
       "      <td>153</td>\n",
       "      <td>8.5</td>\n",
       "      <td>English</td>\n",
       "    </tr>\n",
       "    <tr>\n",
       "      <th>582</th>\n",
       "      <td>Emicida: AmarElo - It's All For Yesterday</td>\n",
       "      <td>Documentary</td>\n",
       "      <td>December 8, 2020</td>\n",
       "      <td>89</td>\n",
       "      <td>8.6</td>\n",
       "      <td>Portuguese</td>\n",
       "    </tr>\n",
       "    <tr>\n",
       "      <th>583</th>\n",
       "      <td>David Attenborough: A Life on Our Planet</td>\n",
       "      <td>Documentary</td>\n",
       "      <td>October 4, 2020</td>\n",
       "      <td>83</td>\n",
       "      <td>9.0</td>\n",
       "      <td>English</td>\n",
       "    </tr>\n",
       "  </tbody>\n",
       "</table>\n",
       "</div>"
      ],
      "text/plain": [
       "                                           Title  \\\n",
       "569                           My Octopus Teacher   \n",
       "570                               Rising Phoenix   \n",
       "571                                         13th   \n",
       "572            Disclosure: Trans Lives on Screen   \n",
       "573                                        Klaus   \n",
       "574                                   Seaspiracy   \n",
       "575        The Three Deaths of Marisela Escobedo   \n",
       "576                      Cuba and the Cameraman    \n",
       "577                       Dancing with the Birds   \n",
       "578   Ben Platt: Live from Radio City Music Hall   \n",
       "579        Taylor Swift: Reputation Stadium Tour   \n",
       "580  Winter on Fire: Ukraine's Fight for Freedom   \n",
       "581                      Springsteen on Broadway   \n",
       "582    Emicida: AmarElo - It's All For Yesterday   \n",
       "583     David Attenborough: A Life on Our Planet   \n",
       "\n",
       "                                    Genre           Premiere  Runtime  \\\n",
       "569                           Documentary  September 7, 2020       85   \n",
       "570                           Documentary    August 26, 2020      106   \n",
       "571                           Documentary    October 7, 2016      100   \n",
       "572                           Documentary      June 19, 2020      107   \n",
       "573  Animation/Christmas/Comedy/Adventure  November 15, 2019       97   \n",
       "574                           Documentary     March 24, 2021       89   \n",
       "575                           Documentary   October 14, 2020      109   \n",
       "576                           Documentary  November 24, 2017      114   \n",
       "577                           Documentary   October 23, 2019       51   \n",
       "578                          Concert Film       May 20, 2020       85   \n",
       "579                          Concert Film  December 31, 2018      125   \n",
       "580                           Documentary    October 9, 2015       91   \n",
       "581                          One-man show  December 16, 2018      153   \n",
       "582                           Documentary   December 8, 2020       89   \n",
       "583                           Documentary    October 4, 2020       83   \n",
       "\n",
       "     IMDB Score                  Language  \n",
       "569         8.1                   English  \n",
       "570         8.1                   English  \n",
       "571         8.2                   English  \n",
       "572         8.2                   English  \n",
       "573         8.2                   English  \n",
       "574         8.2                   English  \n",
       "575         8.2                   Spanish  \n",
       "576         8.3                   English  \n",
       "577         8.3                   English  \n",
       "578         8.4                   English  \n",
       "579         8.4                   English  \n",
       "580         8.4  English/Ukranian/Russian  \n",
       "581         8.5                   English  \n",
       "582         8.6                Portuguese  \n",
       "583         9.0                   English  "
      ]
     },
     "metadata": {},
     "execution_count": 5
    }
   ],
   "metadata": {}
  },
  {
   "cell_type": "markdown",
   "source": [
    "# Data exploration"
   ],
   "metadata": {}
  },
  {
   "cell_type": "markdown",
   "source": [
    "## How many records (rows) and attributes (columns) are in the dataset?"
   ],
   "metadata": {}
  },
  {
   "cell_type": "code",
   "execution_count": 6,
   "source": [
    "df.shape"
   ],
   "outputs": [
    {
     "output_type": "execute_result",
     "data": {
      "text/plain": [
       "(584, 6)"
      ]
     },
     "metadata": {},
     "execution_count": 6
    }
   ],
   "metadata": {}
  },
  {
   "cell_type": "markdown",
   "source": [
    "## What is the highest (and lowest) score among all the movies in the dataset?"
   ],
   "metadata": {}
  },
  {
   "cell_type": "markdown",
   "source": [
    "The `describe()` function calculates some statistics for each of numeric columns in the dataset. Since we're only interested in the `IMDB Score`, we can also extract the subset of the dataframe according to this column."
   ],
   "metadata": {}
  },
  {
   "cell_type": "code",
   "execution_count": 7,
   "source": [
    "# getting the IMDB score\n",
    "df['IMDB Score']"
   ],
   "outputs": [
    {
     "output_type": "execute_result",
     "data": {
      "text/plain": [
       "0      2.5\n",
       "1      2.6\n",
       "2      2.6\n",
       "3      3.2\n",
       "4      3.4\n",
       "      ... \n",
       "579    8.4\n",
       "580    8.4\n",
       "581    8.5\n",
       "582    8.6\n",
       "583    9.0\n",
       "Name: IMDB Score, Length: 584, dtype: float64"
      ]
     },
     "metadata": {},
     "execution_count": 7
    }
   ],
   "metadata": {}
  },
  {
   "cell_type": "code",
   "execution_count": 8,
   "source": [
    "# applying the describe function on the IMDB Score column\n",
    "df['IMDB Score'].describe()"
   ],
   "outputs": [
    {
     "output_type": "execute_result",
     "data": {
      "text/plain": [
       "count    584.000000\n",
       "mean       6.271747\n",
       "std        0.979256\n",
       "min        2.500000\n",
       "25%        5.700000\n",
       "50%        6.350000\n",
       "75%        7.000000\n",
       "max        9.000000\n",
       "Name: IMDB Score, dtype: float64"
      ]
     },
     "metadata": {},
     "execution_count": 8
    }
   ],
   "metadata": {}
  },
  {
   "cell_type": "markdown",
   "source": [
    "As shown above, the `describe()` function gives some statistics into the IMDB Score. We can extract the max, min from this as follows"
   ],
   "metadata": {}
  },
  {
   "cell_type": "code",
   "execution_count": 9,
   "source": [
    "df['IMDB Score'].describe()[['min', 'max']]\n",
    "df['IMDB Score'].describe()[['min', 'max']]\n",
    "# you can extract the two values (min, max) and assign them to 2 variables score_min, score_max as below\n",
    "# score_min, score_max = df['IMDB Score'].describe()[['min', 'max']]\n",
    "# print('max is {}'.format(score_max))\n",
    "# print('min is {}'.format(score_min))"
   ],
   "outputs": [
    {
     "output_type": "execute_result",
     "data": {
      "text/plain": [
       "min    2.5\n",
       "max    9.0\n",
       "Name: IMDB Score, dtype: float64"
      ]
     },
     "metadata": {},
     "execution_count": 9
    }
   ],
   "metadata": {}
  },
  {
   "cell_type": "markdown",
   "source": [
    "Another way is to apply the `min(), max()` functions on the IMDB Score column"
   ],
   "metadata": {}
  },
  {
   "cell_type": "code",
   "execution_count": 10,
   "source": [
    "score_max = df['IMDB Score'].max()\n",
    "score_min = df['IMDB Score'].min()\n",
    "print('max is {}'.format(score_max))\n",
    "print('min is {}'.format(score_min))"
   ],
   "outputs": [
    {
     "output_type": "stream",
     "name": "stdout",
     "text": [
      "max is 9.0\n",
      "min is 2.5\n"
     ]
    }
   ],
   "metadata": {}
  },
  {
   "cell_type": "markdown",
   "source": [
    "## Which movies score the highest?"
   ],
   "metadata": {}
  },
  {
   "cell_type": "markdown",
   "source": [
    "We have already calculated the maximum score above. The value is stored in the variable `score_max`. To find all highest-scored movies, we just need to find all movies whose scores are the same as `score_max`"
   ],
   "metadata": {}
  },
  {
   "cell_type": "code",
   "execution_count": 11,
   "source": [
    "df[df['IMDB Score'] == 9.0]"
   ],
   "outputs": [
    {
     "output_type": "execute_result",
     "data": {
      "text/html": [
       "<div>\n",
       "<style scoped>\n",
       "    .dataframe tbody tr th:only-of-type {\n",
       "        vertical-align: middle;\n",
       "    }\n",
       "\n",
       "    .dataframe tbody tr th {\n",
       "        vertical-align: top;\n",
       "    }\n",
       "\n",
       "    .dataframe thead th {\n",
       "        text-align: right;\n",
       "    }\n",
       "</style>\n",
       "<table border=\"1\" class=\"dataframe\">\n",
       "  <thead>\n",
       "    <tr style=\"text-align: right;\">\n",
       "      <th></th>\n",
       "      <th>Title</th>\n",
       "      <th>Genre</th>\n",
       "      <th>Premiere</th>\n",
       "      <th>Runtime</th>\n",
       "      <th>IMDB Score</th>\n",
       "      <th>Language</th>\n",
       "    </tr>\n",
       "  </thead>\n",
       "  <tbody>\n",
       "    <tr>\n",
       "      <th>583</th>\n",
       "      <td>David Attenborough: A Life on Our Planet</td>\n",
       "      <td>Documentary</td>\n",
       "      <td>October 4, 2020</td>\n",
       "      <td>83</td>\n",
       "      <td>9.0</td>\n",
       "      <td>English</td>\n",
       "    </tr>\n",
       "  </tbody>\n",
       "</table>\n",
       "</div>"
      ],
      "text/plain": [
       "                                        Title        Genre         Premiere  \\\n",
       "583  David Attenborough: A Life on Our Planet  Documentary  October 4, 2020   \n",
       "\n",
       "     Runtime  IMDB Score Language  \n",
       "583       83         9.0  English  "
      ]
     },
     "metadata": {},
     "execution_count": 11
    }
   ],
   "metadata": {}
  },
  {
   "cell_type": "markdown",
   "source": [
    "## What are the genres of all the movies?"
   ],
   "metadata": {}
  },
  {
   "cell_type": "code",
   "execution_count": 12,
   "source": [
    "df['Genre'].unique()"
   ],
   "outputs": [
    {
     "output_type": "execute_result",
     "data": {
      "text/plain": [
       "array(['Documentary', 'Thriller', 'Science fiction/Drama',\n",
       "       'Horror thriller', 'Mystery', 'Action', 'Comedy',\n",
       "       'Heist film/Thriller', 'Musical/Western/Fantasy', 'Drama',\n",
       "       'Romantic comedy', 'Action comedy', 'Horror anthology',\n",
       "       'Political thriller', 'Superhero-Comedy', 'Horror',\n",
       "       'Romance drama', 'Anime / Short', 'Superhero', 'Heist', 'Western',\n",
       "       'Animation/Superhero', 'Family film', 'Action-thriller',\n",
       "       'Teen comedy-drama', 'Romantic drama', 'Animation',\n",
       "       'Aftershow / Interview', 'Christmas musical',\n",
       "       'Science fiction adventure', 'Science fiction', 'Variety show',\n",
       "       'Comedy-drama', 'Comedy/Fantasy/Family', 'Supernatural drama',\n",
       "       'Action/Comedy', 'Action/Science fiction',\n",
       "       'Romantic teenage drama', 'Comedy / Musical', 'Musical',\n",
       "       'Science fiction/Mystery', 'Crime drama',\n",
       "       'Psychological thriller drama', 'Adventure/Comedy', 'Black comedy',\n",
       "       'Romance', 'Horror comedy', 'Christian musical',\n",
       "       'Romantic teen drama', 'Family', 'Dark comedy', 'Comedy horror',\n",
       "       'Psychological thriller', 'Biopic', 'Science fiction/Thriller',\n",
       "       'Mockumentary', 'Satire', 'One-man show', 'Romantic comedy-drama',\n",
       "       'Comedy/Horror', 'Fantasy', 'Sports-drama', 'Zombie/Heist',\n",
       "       'Psychological horror', 'Sports film', 'Comedy mystery',\n",
       "       'Romantic thriller', 'Christmas comedy', 'War-Comedy',\n",
       "       'Romantic comedy/Holiday', 'Adventure-romance', 'Adventure',\n",
       "       'Horror-thriller', 'Dance comedy', 'Stop Motion',\n",
       "       'Horror/Crime drama', 'Urban fantasy', 'Drama/Horror',\n",
       "       'Family/Comedy-drama', 'War', 'Crime thriller',\n",
       "       'Science fiction/Action', 'Teen comedy horror', 'Concert Film',\n",
       "       'Musical comedy', 'Animation/Musical/Adventure',\n",
       "       'Animation / Musicial', 'Animation/Comedy/Adventure',\n",
       "       'Action thriller', 'Anime/Science fiction', 'Animation / Short',\n",
       "       'War drama', 'Family/Christmas musical',\n",
       "       'Science fiction thriller', 'Drama / Short',\n",
       "       'Hidden-camera prank comedy', 'Spy thriller', 'Anime/Fantasy',\n",
       "       'Animated musical comedy', 'Variety Show', 'Superhero/Action',\n",
       "       'Biographical/Comedy', 'Historical-epic', 'Animation / Comedy',\n",
       "       'Christmas/Fantasy/Adventure/Comedy', 'Mentalism special',\n",
       "       'Drama-Comedy', 'Coming-of-age comedy-drama', 'Historical drama',\n",
       "       'Making-of', 'Action-adventure', 'Animation / Science Fiction',\n",
       "       'Anthology/Dark comedy', 'Musical / Short',\n",
       "       'Animation/Christmas/Comedy/Adventure'], dtype=object)"
      ]
     },
     "metadata": {},
     "execution_count": 12
    }
   ],
   "metadata": {}
  },
  {
   "cell_type": "markdown",
   "source": [
    "## Bonus: Some movies are tagged with more than one genre, hence, the list of unique genres could be (possibly) less than what you have just obtained. Find a way to deal with this situation, and derive the correct sets of (single) genre."
   ],
   "metadata": {}
  },
  {
   "cell_type": "code",
   "execution_count": 13,
   "source": [
    "# first, get all genres, including singular and multiple genre tags\n",
    "all_genre_tags = df['Genre']\n",
    "# a variable to keep all singular genres\n",
    "singular_genres = []\n",
    "for genre_tag in all_genre_tags:\n",
    "    # check if this tag is multiple or single\n",
    "    if '/' in genre_tag:\n",
    "        # '/' seperate different genre tags\n",
    "        # let's separate them\n",
    "        genres = genre_tag.split('/')\n",
    "        # append these genres to the list of singular genre\n",
    "        singular_genres += genres\n",
    "    else:\n",
    "        # this tag has only one genre\n",
    "        # append this genre to the list of singular genre\n",
    "        singular_genres += [genre_tag]\n",
    "# now get unique genres from the list of genres\n",
    "singular_genres = set(singular_genres)\n",
    "# print them out\n",
    "# also print the number of unique genres\n",
    "print(len(singular_genres))\n",
    "print(singular_genres)"
   ],
   "outputs": [
    {
     "output_type": "stream",
     "name": "stdout",
     "text": [
      "98\n",
      "{'Heist', 'War', 'Romantic teenage drama', 'Anime', 'Romantic thriller', 'Variety show', 'Adventure-romance', 'Christmas', 'Biopic', 'Documentary', 'Psychological thriller drama', 'Zombie', 'Teen comedy-drama', 'Psychological thriller', 'Comedy horror', 'Dark comedy', 'Mystery', 'Holiday', 'Historical-epic', 'Family', 'Drama', 'Family film', 'Musical ', 'Concert Film', 'Sports film', 'Psychological horror', 'Horror comedy', ' Interview', ' Short', 'Horror', 'Comedy-drama', 'Mockumentary', 'Comedy mystery', 'Heist film', 'Spy thriller', 'Action comedy', 'Thriller', 'Adventure', 'Animation ', 'Action thriller', 'Science fiction thriller', 'Urban fantasy', 'Historical drama', 'War-Comedy', 'Science fiction adventure', 'Romance', 'Animation', 'Action', 'Stop Motion', 'Crime thriller', 'Drama-Comedy', 'Drama ', 'Supernatural drama', 'Anthology', 'Animated musical comedy', 'Variety Show', 'Fantasy', ' Science Fiction', 'Anime ', 'Musical comedy', 'Coming-of-age comedy-drama', 'Crime drama', 'Satire', 'Western', 'Romantic comedy', 'Science fiction', 'One-man show', 'Mentalism special', 'Horror anthology', 'Action-adventure', 'Horror thriller', 'Romantic teen drama', 'Musical', 'Superhero', 'War drama', 'Romance drama', 'Political thriller', 'Superhero-Comedy', 'Comedy', ' Comedy', 'Hidden-camera prank comedy', 'Black comedy', 'Making-of', 'Christmas comedy', 'Comedy ', 'Biographical', 'Christian musical', 'Horror-thriller', 'Action-thriller', ' Musical', 'Teen comedy horror', 'Dance comedy', 'Aftershow ', ' Musicial', 'Christmas musical', 'Sports-drama', 'Romantic comedy-drama', 'Romantic drama'}\n"
     ]
    }
   ],
   "metadata": {}
  },
  {
   "cell_type": "markdown",
   "source": [
    "## Sort the movies by their titles"
   ],
   "metadata": {}
  },
  {
   "cell_type": "markdown",
   "source": [
    "This can be accomplished by using the `sort_values()` function. Note that, by default the `inplace` argument for this function has the `False` value. That indicates the calling dataframe will not be altered. The function just returns another dataframe with sorted values. On the other hand, by setting `inplace = True`, this makes changes to the calling dataframe.  \n",
    "If we want to change `df`, we have the following statement."
   ],
   "metadata": {}
  },
  {
   "cell_type": "code",
   "execution_count": 14,
   "source": [
    "df.sort_values('Title', inplace=True)\n",
    "df.head()"
   ],
   "outputs": [
    {
     "output_type": "execute_result",
     "data": {
      "text/html": [
       "<div>\n",
       "<style scoped>\n",
       "    .dataframe tbody tr th:only-of-type {\n",
       "        vertical-align: middle;\n",
       "    }\n",
       "\n",
       "    .dataframe tbody tr th {\n",
       "        vertical-align: top;\n",
       "    }\n",
       "\n",
       "    .dataframe thead th {\n",
       "        text-align: right;\n",
       "    }\n",
       "</style>\n",
       "<table border=\"1\" class=\"dataframe\">\n",
       "  <thead>\n",
       "    <tr style=\"text-align: right;\">\n",
       "      <th></th>\n",
       "      <th>Title</th>\n",
       "      <th>Genre</th>\n",
       "      <th>Premiere</th>\n",
       "      <th>Runtime</th>\n",
       "      <th>IMDB Score</th>\n",
       "      <th>Language</th>\n",
       "    </tr>\n",
       "  </thead>\n",
       "  <tbody>\n",
       "    <tr>\n",
       "      <th>65</th>\n",
       "      <td>#REALITYHIGH</td>\n",
       "      <td>Comedy</td>\n",
       "      <td>September 8, 2017</td>\n",
       "      <td>99</td>\n",
       "      <td>5.2</td>\n",
       "      <td>English</td>\n",
       "    </tr>\n",
       "    <tr>\n",
       "      <th>571</th>\n",
       "      <td>13th</td>\n",
       "      <td>Documentary</td>\n",
       "      <td>October 7, 2016</td>\n",
       "      <td>100</td>\n",
       "      <td>8.2</td>\n",
       "      <td>English</td>\n",
       "    </tr>\n",
       "    <tr>\n",
       "      <th>451</th>\n",
       "      <td>13th: A Conversation with Oprah Winfrey &amp; Ava ...</td>\n",
       "      <td>Aftershow / Interview</td>\n",
       "      <td>January 26, 2017</td>\n",
       "      <td>36</td>\n",
       "      <td>7.1</td>\n",
       "      <td>English</td>\n",
       "    </tr>\n",
       "    <tr>\n",
       "      <th>161</th>\n",
       "      <td>15 August</td>\n",
       "      <td>Comedy-drama</td>\n",
       "      <td>March 29, 2019</td>\n",
       "      <td>124</td>\n",
       "      <td>5.8</td>\n",
       "      <td>Marathi</td>\n",
       "    </tr>\n",
       "    <tr>\n",
       "      <th>262</th>\n",
       "      <td>1922</td>\n",
       "      <td>Horror/Crime drama</td>\n",
       "      <td>October 20, 2017</td>\n",
       "      <td>102</td>\n",
       "      <td>6.3</td>\n",
       "      <td>English</td>\n",
       "    </tr>\n",
       "  </tbody>\n",
       "</table>\n",
       "</div>"
      ],
      "text/plain": [
       "                                                 Title                  Genre  \\\n",
       "65                                        #REALITYHIGH                 Comedy   \n",
       "571                                               13th            Documentary   \n",
       "451  13th: A Conversation with Oprah Winfrey & Ava ...  Aftershow / Interview   \n",
       "161                                          15 August           Comedy-drama   \n",
       "262                                               1922     Horror/Crime drama   \n",
       "\n",
       "              Premiere  Runtime  IMDB Score Language  \n",
       "65   September 8, 2017       99         5.2  English  \n",
       "571    October 7, 2016      100         8.2  English  \n",
       "451   January 26, 2017       36         7.1  English  \n",
       "161     March 29, 2019      124         5.8  Marathi  \n",
       "262   October 20, 2017      102         6.3  English  "
      ]
     },
     "metadata": {},
     "execution_count": 14
    }
   ],
   "metadata": {}
  },
  {
   "cell_type": "markdown",
   "source": [
    "## To simplify the data for the sake of this Lab session, we are going to remove movies with compound genres."
   ],
   "metadata": {}
  },
  {
   "cell_type": "code",
   "execution_count": 15,
   "source": [
    "df = df[~df['Genre'].apply(lambda g: '/' in g)]\n",
    "df.head()"
   ],
   "outputs": [
    {
     "output_type": "execute_result",
     "data": {
      "text/html": [
       "<div>\n",
       "<style scoped>\n",
       "    .dataframe tbody tr th:only-of-type {\n",
       "        vertical-align: middle;\n",
       "    }\n",
       "\n",
       "    .dataframe tbody tr th {\n",
       "        vertical-align: top;\n",
       "    }\n",
       "\n",
       "    .dataframe thead th {\n",
       "        text-align: right;\n",
       "    }\n",
       "</style>\n",
       "<table border=\"1\" class=\"dataframe\">\n",
       "  <thead>\n",
       "    <tr style=\"text-align: right;\">\n",
       "      <th></th>\n",
       "      <th>Title</th>\n",
       "      <th>Genre</th>\n",
       "      <th>Premiere</th>\n",
       "      <th>Runtime</th>\n",
       "      <th>IMDB Score</th>\n",
       "      <th>Language</th>\n",
       "    </tr>\n",
       "  </thead>\n",
       "  <tbody>\n",
       "    <tr>\n",
       "      <th>65</th>\n",
       "      <td>#REALITYHIGH</td>\n",
       "      <td>Comedy</td>\n",
       "      <td>September 8, 2017</td>\n",
       "      <td>99</td>\n",
       "      <td>5.2</td>\n",
       "      <td>English</td>\n",
       "    </tr>\n",
       "    <tr>\n",
       "      <th>571</th>\n",
       "      <td>13th</td>\n",
       "      <td>Documentary</td>\n",
       "      <td>October 7, 2016</td>\n",
       "      <td>100</td>\n",
       "      <td>8.2</td>\n",
       "      <td>English</td>\n",
       "    </tr>\n",
       "    <tr>\n",
       "      <th>161</th>\n",
       "      <td>15 August</td>\n",
       "      <td>Comedy-drama</td>\n",
       "      <td>March 29, 2019</td>\n",
       "      <td>124</td>\n",
       "      <td>5.8</td>\n",
       "      <td>Marathi</td>\n",
       "    </tr>\n",
       "    <tr>\n",
       "      <th>389</th>\n",
       "      <td>22 July</td>\n",
       "      <td>Drama</td>\n",
       "      <td>October 10, 2018</td>\n",
       "      <td>144</td>\n",
       "      <td>6.8</td>\n",
       "      <td>English</td>\n",
       "    </tr>\n",
       "    <tr>\n",
       "      <th>29</th>\n",
       "      <td>5 Star Christmas</td>\n",
       "      <td>Comedy</td>\n",
       "      <td>December 7, 2018</td>\n",
       "      <td>95</td>\n",
       "      <td>4.6</td>\n",
       "      <td>Italian</td>\n",
       "    </tr>\n",
       "  </tbody>\n",
       "</table>\n",
       "</div>"
      ],
      "text/plain": [
       "                Title         Genre           Premiere  Runtime  IMDB Score  \\\n",
       "65       #REALITYHIGH        Comedy  September 8, 2017       99         5.2   \n",
       "571              13th   Documentary    October 7, 2016      100         8.2   \n",
       "161         15 August  Comedy-drama     March 29, 2019      124         5.8   \n",
       "389           22 July         Drama   October 10, 2018      144         6.8   \n",
       "29   5 Star Christmas        Comedy   December 7, 2018       95         4.6   \n",
       "\n",
       "    Language  \n",
       "65   English  \n",
       "571  English  \n",
       "161  Marathi  \n",
       "389  English  \n",
       "29   Italian  "
      ]
     },
     "metadata": {},
     "execution_count": 15
    }
   ],
   "metadata": {}
  },
  {
   "cell_type": "markdown",
   "source": [
    "## Extract movies with only 1 tag `Action` and assign a new dataframe to them, called `df_action`"
   ],
   "metadata": {}
  },
  {
   "cell_type": "code",
   "execution_count": 16,
   "source": [
    "df_action = df[df['Genre'] == 'Action']\n",
    "df_action.head()"
   ],
   "outputs": [
    {
     "output_type": "execute_result",
     "data": {
      "text/html": [
       "<div>\n",
       "<style scoped>\n",
       "    .dataframe tbody tr th:only-of-type {\n",
       "        vertical-align: middle;\n",
       "    }\n",
       "\n",
       "    .dataframe tbody tr th {\n",
       "        vertical-align: top;\n",
       "    }\n",
       "\n",
       "    .dataframe thead th {\n",
       "        text-align: right;\n",
       "    }\n",
       "</style>\n",
       "<table border=\"1\" class=\"dataframe\">\n",
       "  <thead>\n",
       "    <tr style=\"text-align: right;\">\n",
       "      <th></th>\n",
       "      <th>Title</th>\n",
       "      <th>Genre</th>\n",
       "      <th>Premiere</th>\n",
       "      <th>Runtime</th>\n",
       "      <th>IMDB Score</th>\n",
       "      <th>Language</th>\n",
       "    </tr>\n",
       "  </thead>\n",
       "  <tbody>\n",
       "    <tr>\n",
       "      <th>220</th>\n",
       "      <td>6 Underground</td>\n",
       "      <td>Action</td>\n",
       "      <td>December 13, 2019</td>\n",
       "      <td>128</td>\n",
       "      <td>6.1</td>\n",
       "      <td>English</td>\n",
       "    </tr>\n",
       "    <tr>\n",
       "      <th>5</th>\n",
       "      <td>Drive</td>\n",
       "      <td>Action</td>\n",
       "      <td>November 1, 2019</td>\n",
       "      <td>147</td>\n",
       "      <td>3.5</td>\n",
       "      <td>Hindi</td>\n",
       "    </tr>\n",
       "    <tr>\n",
       "      <th>50</th>\n",
       "      <td>Earth and Blood</td>\n",
       "      <td>Action</td>\n",
       "      <td>April 17, 2020</td>\n",
       "      <td>80</td>\n",
       "      <td>4.9</td>\n",
       "      <td>French</td>\n",
       "    </tr>\n",
       "    <tr>\n",
       "      <th>372</th>\n",
       "      <td>Extraction</td>\n",
       "      <td>Action</td>\n",
       "      <td>April 24, 2020</td>\n",
       "      <td>117</td>\n",
       "      <td>6.7</td>\n",
       "      <td>English</td>\n",
       "    </tr>\n",
       "    <tr>\n",
       "      <th>153</th>\n",
       "      <td>Point Blank</td>\n",
       "      <td>Action</td>\n",
       "      <td>July 12, 2019</td>\n",
       "      <td>86</td>\n",
       "      <td>5.7</td>\n",
       "      <td>English</td>\n",
       "    </tr>\n",
       "  </tbody>\n",
       "</table>\n",
       "</div>"
      ],
      "text/plain": [
       "               Title   Genre           Premiere  Runtime  IMDB Score Language\n",
       "220    6 Underground  Action  December 13, 2019      128         6.1  English\n",
       "5              Drive  Action   November 1, 2019      147         3.5    Hindi\n",
       "50   Earth and Blood  Action     April 17, 2020       80         4.9   French\n",
       "372       Extraction  Action     April 24, 2020      117         6.7  English\n",
       "153      Point Blank  Action      July 12, 2019       86         5.7  English"
      ]
     },
     "metadata": {},
     "execution_count": 16
    }
   ],
   "metadata": {}
  },
  {
   "cell_type": "markdown",
   "source": [
    "## What is the average score of all action movies?"
   ],
   "metadata": {}
  },
  {
   "cell_type": "code",
   "execution_count": 17,
   "source": [
    "df_action['IMDB Score'].mean()"
   ],
   "outputs": [
    {
     "output_type": "execute_result",
     "data": {
      "text/plain": [
       "5.414285714285714"
      ]
     },
     "metadata": {},
     "execution_count": 17
    }
   ],
   "metadata": {}
  },
  {
   "cell_type": "markdown",
   "source": [
    "## You have learned to calculate the average IMDB score for only the action movies by extracting relevant movies. By using `groupby`, the calculation can be applied to all the genres automatically.\n",
    "## Now, let's group the dataframe by `Genre`."
   ],
   "metadata": {}
  },
  {
   "cell_type": "code",
   "execution_count": 18,
   "source": [
    "gp_genre = df.groupby('Genre')"
   ],
   "outputs": [],
   "metadata": {}
  },
  {
   "cell_type": "markdown",
   "source": [
    "## Calculate average score and average runtime for each of the groups."
   ],
   "metadata": {}
  },
  {
   "cell_type": "code",
   "execution_count": 19,
   "source": [
    "gp_genre_avg = gp_genre[['IMDB Score', 'Runtime']].mean()\n",
    "gp_genre_avg"
   ],
   "outputs": [
    {
     "output_type": "execute_result",
     "data": {
      "text/html": [
       "<div>\n",
       "<style scoped>\n",
       "    .dataframe tbody tr th:only-of-type {\n",
       "        vertical-align: middle;\n",
       "    }\n",
       "\n",
       "    .dataframe tbody tr th {\n",
       "        vertical-align: top;\n",
       "    }\n",
       "\n",
       "    .dataframe thead th {\n",
       "        text-align: right;\n",
       "    }\n",
       "</style>\n",
       "<table border=\"1\" class=\"dataframe\">\n",
       "  <thead>\n",
       "    <tr style=\"text-align: right;\">\n",
       "      <th></th>\n",
       "      <th>IMDB Score</th>\n",
       "      <th>Runtime</th>\n",
       "    </tr>\n",
       "    <tr>\n",
       "      <th>Genre</th>\n",
       "      <th></th>\n",
       "      <th></th>\n",
       "    </tr>\n",
       "  </thead>\n",
       "  <tbody>\n",
       "    <tr>\n",
       "      <th>Action</th>\n",
       "      <td>5.414286</td>\n",
       "      <td>108.000000</td>\n",
       "    </tr>\n",
       "    <tr>\n",
       "      <th>Action comedy</th>\n",
       "      <td>5.420000</td>\n",
       "      <td>101.200000</td>\n",
       "    </tr>\n",
       "    <tr>\n",
       "      <th>Action thriller</th>\n",
       "      <td>6.400000</td>\n",
       "      <td>82.000000</td>\n",
       "    </tr>\n",
       "    <tr>\n",
       "      <th>Action-adventure</th>\n",
       "      <td>7.300000</td>\n",
       "      <td>121.000000</td>\n",
       "    </tr>\n",
       "    <tr>\n",
       "      <th>Action-thriller</th>\n",
       "      <td>6.133333</td>\n",
       "      <td>119.666667</td>\n",
       "    </tr>\n",
       "    <tr>\n",
       "      <th>...</th>\n",
       "      <td>...</td>\n",
       "      <td>...</td>\n",
       "    </tr>\n",
       "    <tr>\n",
       "      <th>Variety show</th>\n",
       "      <td>5.950000</td>\n",
       "      <td>60.500000</td>\n",
       "    </tr>\n",
       "    <tr>\n",
       "      <th>War</th>\n",
       "      <td>6.750000</td>\n",
       "      <td>110.500000</td>\n",
       "    </tr>\n",
       "    <tr>\n",
       "      <th>War drama</th>\n",
       "      <td>7.100000</td>\n",
       "      <td>145.500000</td>\n",
       "    </tr>\n",
       "    <tr>\n",
       "      <th>War-Comedy</th>\n",
       "      <td>6.000000</td>\n",
       "      <td>122.000000</td>\n",
       "    </tr>\n",
       "    <tr>\n",
       "      <th>Western</th>\n",
       "      <td>6.066667</td>\n",
       "      <td>116.666667</td>\n",
       "    </tr>\n",
       "  </tbody>\n",
       "</table>\n",
       "<p>79 rows × 2 columns</p>\n",
       "</div>"
      ],
      "text/plain": [
       "                  IMDB Score     Runtime\n",
       "Genre                                   \n",
       "Action              5.414286  108.000000\n",
       "Action comedy       5.420000  101.200000\n",
       "Action thriller     6.400000   82.000000\n",
       "Action-adventure    7.300000  121.000000\n",
       "Action-thriller     6.133333  119.666667\n",
       "...                      ...         ...\n",
       "Variety show        5.950000   60.500000\n",
       "War                 6.750000  110.500000\n",
       "War drama           7.100000  145.500000\n",
       "War-Comedy          6.000000  122.000000\n",
       "Western             6.066667  116.666667\n",
       "\n",
       "[79 rows x 2 columns]"
      ]
     },
     "metadata": {},
     "execution_count": 19
    }
   ],
   "metadata": {}
  },
  {
   "cell_type": "markdown",
   "source": [
    "## On average, which movie genre scores the highest?"
   ],
   "metadata": {}
  },
  {
   "cell_type": "markdown",
   "source": [
    "There are (at least) two ways to do this."
   ],
   "metadata": {}
  },
  {
   "cell_type": "markdown",
   "source": [
    "First approach:\n",
    "- Find the maximum average score\n",
    "- Find genres with that score"
   ],
   "metadata": {}
  },
  {
   "cell_type": "code",
   "execution_count": 20,
   "source": [
    "# max average IMDB score\n",
    "max_avg_score = gp_genre_avg['IMDB Score'].max()\n",
    "print(max_avg_score)\n",
    "# find genres with that score\n",
    "gp_genre_avg[gp_genre_avg['IMDB Score']==max_avg_score]"
   ],
   "outputs": [
    {
     "output_type": "stream",
     "name": "stdout",
     "text": [
      "7.633333333333333\n"
     ]
    },
    {
     "output_type": "execute_result",
     "data": {
      "text/html": [
       "<div>\n",
       "<style scoped>\n",
       "    .dataframe tbody tr th:only-of-type {\n",
       "        vertical-align: middle;\n",
       "    }\n",
       "\n",
       "    .dataframe tbody tr th {\n",
       "        vertical-align: top;\n",
       "    }\n",
       "\n",
       "    .dataframe thead th {\n",
       "        text-align: right;\n",
       "    }\n",
       "</style>\n",
       "<table border=\"1\" class=\"dataframe\">\n",
       "  <thead>\n",
       "    <tr style=\"text-align: right;\">\n",
       "      <th></th>\n",
       "      <th>IMDB Score</th>\n",
       "      <th>Runtime</th>\n",
       "    </tr>\n",
       "    <tr>\n",
       "      <th>Genre</th>\n",
       "      <th></th>\n",
       "      <th></th>\n",
       "    </tr>\n",
       "  </thead>\n",
       "  <tbody>\n",
       "    <tr>\n",
       "      <th>Concert Film</th>\n",
       "      <td>7.633333</td>\n",
       "      <td>98.666667</td>\n",
       "    </tr>\n",
       "  </tbody>\n",
       "</table>\n",
       "</div>"
      ],
      "text/plain": [
       "              IMDB Score    Runtime\n",
       "Genre                              \n",
       "Concert Film    7.633333  98.666667"
      ]
     },
     "metadata": {},
     "execution_count": 20
    }
   ],
   "metadata": {}
  },
  {
   "cell_type": "markdown",
   "source": [
    "Second approach:\n",
    "- find the index of the row with the maximum score by using the `argmax()` function. (Note that `max()` gives the max value while `argmax()` gives the index of the max value)\n",
    "- use the index to locate the row"
   ],
   "metadata": {}
  },
  {
   "cell_type": "code",
   "execution_count": 21,
   "source": [
    "# index of the maximum\n",
    "max_avg_ind = gp_genre_avg['IMDB Score'].argmax()\n",
    "print(max_avg_ind)\n",
    "# the corresponding row\n",
    "gp_genre_avg.iloc[max_avg_ind]\n",
    "# to get only the Genre, you can use the following statement\n",
    "# gp_genre_avg['IMDB Score'].index[max_avg_ind]"
   ],
   "outputs": [
    {
     "output_type": "stream",
     "name": "stdout",
     "text": [
      "19\n"
     ]
    },
    {
     "output_type": "execute_result",
     "data": {
      "text/plain": [
       "IMDB Score     7.633333\n",
       "Runtime       98.666667\n",
       "Name: Concert Film, dtype: float64"
      ]
     },
     "metadata": {},
     "execution_count": 21
    }
   ],
   "metadata": {}
  },
  {
   "cell_type": "markdown",
   "source": [
    "## Are the movie titles unique?"
   ],
   "metadata": {}
  },
  {
   "cell_type": "code",
   "execution_count": 22,
   "source": [
    "len(df['Title'].unique())"
   ],
   "outputs": [
    {
     "output_type": "execute_result",
     "data": {
      "text/plain": [
       "533"
      ]
     },
     "metadata": {},
     "execution_count": 22
    }
   ],
   "metadata": {}
  },
  {
   "cell_type": "markdown",
   "source": [
    "## You have just found out that the titles are unique. It can be used as indexes for the dataframe. Let's make the `Title` column as index."
   ],
   "metadata": {}
  },
  {
   "cell_type": "code",
   "execution_count": 23,
   "source": [
    "df.set_index('Title', inplace=True)\n",
    "df.head()"
   ],
   "outputs": [
    {
     "output_type": "execute_result",
     "data": {
      "text/html": [
       "<div>\n",
       "<style scoped>\n",
       "    .dataframe tbody tr th:only-of-type {\n",
       "        vertical-align: middle;\n",
       "    }\n",
       "\n",
       "    .dataframe tbody tr th {\n",
       "        vertical-align: top;\n",
       "    }\n",
       "\n",
       "    .dataframe thead th {\n",
       "        text-align: right;\n",
       "    }\n",
       "</style>\n",
       "<table border=\"1\" class=\"dataframe\">\n",
       "  <thead>\n",
       "    <tr style=\"text-align: right;\">\n",
       "      <th></th>\n",
       "      <th>Genre</th>\n",
       "      <th>Premiere</th>\n",
       "      <th>Runtime</th>\n",
       "      <th>IMDB Score</th>\n",
       "      <th>Language</th>\n",
       "    </tr>\n",
       "    <tr>\n",
       "      <th>Title</th>\n",
       "      <th></th>\n",
       "      <th></th>\n",
       "      <th></th>\n",
       "      <th></th>\n",
       "      <th></th>\n",
       "    </tr>\n",
       "  </thead>\n",
       "  <tbody>\n",
       "    <tr>\n",
       "      <th>#REALITYHIGH</th>\n",
       "      <td>Comedy</td>\n",
       "      <td>September 8, 2017</td>\n",
       "      <td>99</td>\n",
       "      <td>5.2</td>\n",
       "      <td>English</td>\n",
       "    </tr>\n",
       "    <tr>\n",
       "      <th>13th</th>\n",
       "      <td>Documentary</td>\n",
       "      <td>October 7, 2016</td>\n",
       "      <td>100</td>\n",
       "      <td>8.2</td>\n",
       "      <td>English</td>\n",
       "    </tr>\n",
       "    <tr>\n",
       "      <th>15 August</th>\n",
       "      <td>Comedy-drama</td>\n",
       "      <td>March 29, 2019</td>\n",
       "      <td>124</td>\n",
       "      <td>5.8</td>\n",
       "      <td>Marathi</td>\n",
       "    </tr>\n",
       "    <tr>\n",
       "      <th>22 July</th>\n",
       "      <td>Drama</td>\n",
       "      <td>October 10, 2018</td>\n",
       "      <td>144</td>\n",
       "      <td>6.8</td>\n",
       "      <td>English</td>\n",
       "    </tr>\n",
       "    <tr>\n",
       "      <th>5 Star Christmas</th>\n",
       "      <td>Comedy</td>\n",
       "      <td>December 7, 2018</td>\n",
       "      <td>95</td>\n",
       "      <td>4.6</td>\n",
       "      <td>Italian</td>\n",
       "    </tr>\n",
       "  </tbody>\n",
       "</table>\n",
       "</div>"
      ],
      "text/plain": [
       "                         Genre           Premiere  Runtime  IMDB Score  \\\n",
       "Title                                                                    \n",
       "#REALITYHIGH            Comedy  September 8, 2017       99         5.2   \n",
       "13th               Documentary    October 7, 2016      100         8.2   \n",
       "15 August         Comedy-drama     March 29, 2019      124         5.8   \n",
       "22 July                  Drama   October 10, 2018      144         6.8   \n",
       "5 Star Christmas        Comedy   December 7, 2018       95         4.6   \n",
       "\n",
       "                 Language  \n",
       "Title                      \n",
       "#REALITYHIGH      English  \n",
       "13th              English  \n",
       "15 August         Marathi  \n",
       "22 July           English  \n",
       "5 Star Christmas  Italian  "
      ]
     },
     "metadata": {},
     "execution_count": 23
    }
   ],
   "metadata": {}
  },
  {
   "cell_type": "markdown",
   "source": [
    "# Datetime"
   ],
   "metadata": {}
  },
  {
   "cell_type": "markdown",
   "source": [
    "## What is the datetype of the `Premiere` column?"
   ],
   "metadata": {}
  },
  {
   "cell_type": "code",
   "execution_count": 24,
   "source": [
    "df['Premiere'][0]"
   ],
   "outputs": [
    {
     "output_type": "execute_result",
     "data": {
      "text/plain": [
       "'September 8, 2017'"
      ]
     },
     "metadata": {},
     "execution_count": 24
    }
   ],
   "metadata": {}
  },
  {
   "cell_type": "markdown",
   "source": [
    "## Convert the datetime strings to datetime objects"
   ],
   "metadata": {}
  },
  {
   "cell_type": "markdown",
   "source": [
    "The function `to_datetime()` convert a column with datetime strings to datetime objects"
   ],
   "metadata": {}
  },
  {
   "cell_type": "code",
   "execution_count": 25,
   "source": [
    "pd.to_datetime(df['Premiere'])"
   ],
   "outputs": [
    {
     "output_type": "execute_result",
     "data": {
      "text/plain": [
       "Title\n",
       "#REALITYHIGH       2017-09-08\n",
       "13th               2016-10-07\n",
       "15 August          2019-03-29\n",
       "22 July            2018-10-10\n",
       "5 Star Christmas   2018-12-07\n",
       "                      ...    \n",
       "Yeh Ballet         2020-02-21\n",
       "Yes Day            2021-03-12\n",
       "You've Got This    2020-10-02\n",
       "Zion               2018-08-10\n",
       "�l�t?r�            2020-10-02\n",
       "Name: Premiere, Length: 533, dtype: datetime64[ns]"
      ]
     },
     "metadata": {},
     "execution_count": 25
    }
   ],
   "metadata": {}
  },
  {
   "cell_type": "code",
   "execution_count": 26,
   "source": [
    "# we can assign the outcome from the to_datetime() above to a new column for the dataframe. Here we name the new column as 'PremiereDate'\n",
    "df['PremiereDate'] = pd.to_datetime(df['Premiere'])\n",
    "df.head()"
   ],
   "outputs": [
    {
     "output_type": "execute_result",
     "data": {
      "text/html": [
       "<div>\n",
       "<style scoped>\n",
       "    .dataframe tbody tr th:only-of-type {\n",
       "        vertical-align: middle;\n",
       "    }\n",
       "\n",
       "    .dataframe tbody tr th {\n",
       "        vertical-align: top;\n",
       "    }\n",
       "\n",
       "    .dataframe thead th {\n",
       "        text-align: right;\n",
       "    }\n",
       "</style>\n",
       "<table border=\"1\" class=\"dataframe\">\n",
       "  <thead>\n",
       "    <tr style=\"text-align: right;\">\n",
       "      <th></th>\n",
       "      <th>Genre</th>\n",
       "      <th>Premiere</th>\n",
       "      <th>Runtime</th>\n",
       "      <th>IMDB Score</th>\n",
       "      <th>Language</th>\n",
       "      <th>PremiereDate</th>\n",
       "    </tr>\n",
       "    <tr>\n",
       "      <th>Title</th>\n",
       "      <th></th>\n",
       "      <th></th>\n",
       "      <th></th>\n",
       "      <th></th>\n",
       "      <th></th>\n",
       "      <th></th>\n",
       "    </tr>\n",
       "  </thead>\n",
       "  <tbody>\n",
       "    <tr>\n",
       "      <th>#REALITYHIGH</th>\n",
       "      <td>Comedy</td>\n",
       "      <td>September 8, 2017</td>\n",
       "      <td>99</td>\n",
       "      <td>5.2</td>\n",
       "      <td>English</td>\n",
       "      <td>2017-09-08</td>\n",
       "    </tr>\n",
       "    <tr>\n",
       "      <th>13th</th>\n",
       "      <td>Documentary</td>\n",
       "      <td>October 7, 2016</td>\n",
       "      <td>100</td>\n",
       "      <td>8.2</td>\n",
       "      <td>English</td>\n",
       "      <td>2016-10-07</td>\n",
       "    </tr>\n",
       "    <tr>\n",
       "      <th>15 August</th>\n",
       "      <td>Comedy-drama</td>\n",
       "      <td>March 29, 2019</td>\n",
       "      <td>124</td>\n",
       "      <td>5.8</td>\n",
       "      <td>Marathi</td>\n",
       "      <td>2019-03-29</td>\n",
       "    </tr>\n",
       "    <tr>\n",
       "      <th>22 July</th>\n",
       "      <td>Drama</td>\n",
       "      <td>October 10, 2018</td>\n",
       "      <td>144</td>\n",
       "      <td>6.8</td>\n",
       "      <td>English</td>\n",
       "      <td>2018-10-10</td>\n",
       "    </tr>\n",
       "    <tr>\n",
       "      <th>5 Star Christmas</th>\n",
       "      <td>Comedy</td>\n",
       "      <td>December 7, 2018</td>\n",
       "      <td>95</td>\n",
       "      <td>4.6</td>\n",
       "      <td>Italian</td>\n",
       "      <td>2018-12-07</td>\n",
       "    </tr>\n",
       "  </tbody>\n",
       "</table>\n",
       "</div>"
      ],
      "text/plain": [
       "                         Genre           Premiere  Runtime  IMDB Score  \\\n",
       "Title                                                                    \n",
       "#REALITYHIGH            Comedy  September 8, 2017       99         5.2   \n",
       "13th               Documentary    October 7, 2016      100         8.2   \n",
       "15 August         Comedy-drama     March 29, 2019      124         5.8   \n",
       "22 July                  Drama   October 10, 2018      144         6.8   \n",
       "5 Star Christmas        Comedy   December 7, 2018       95         4.6   \n",
       "\n",
       "                 Language PremiereDate  \n",
       "Title                                   \n",
       "#REALITYHIGH      English   2017-09-08  \n",
       "13th              English   2016-10-07  \n",
       "15 August         Marathi   2019-03-29  \n",
       "22 July           English   2018-10-10  \n",
       "5 Star Christmas  Italian   2018-12-07  "
      ]
     },
     "metadata": {},
     "execution_count": 26
    }
   ],
   "metadata": {}
  },
  {
   "cell_type": "markdown",
   "source": [
    "## List all the movies that were premiered in 2018"
   ],
   "metadata": {}
  },
  {
   "cell_type": "code",
   "execution_count": 27,
   "source": [
    "from datetime import datetime, date"
   ],
   "outputs": [],
   "metadata": {}
  },
  {
   "cell_type": "markdown",
   "source": [
    "The datetime column `PremiereDate` allows comparisons between datetime objects, such as `d1 > d2` is `True` when the date `d1` is in the future of the date `d2`. \n",
    "So to filter movies in 2018, we can define the lower and upper bounds of the datetime."
   ],
   "metadata": {}
  },
  {
   "cell_type": "markdown",
   "source": [
    "The function strptime of the datetime class convert a datetime string to a datetime object. The second argument for this function is the datetime format used by the string.  \n",
    "`'%d/%m/%Y'` indicates `dd/mm/yyyy` format"
   ],
   "metadata": {}
  },
  {
   "cell_type": "code",
   "execution_count": 28,
   "source": [
    "first_2018 = datetime.strptime('01/01/2018', '%d/%m/%Y')\n",
    "last_2018 = datetime.strptime('31/12/2018', '%d/%m/%Y')"
   ],
   "outputs": [],
   "metadata": {}
  },
  {
   "cell_type": "code",
   "execution_count": 29,
   "source": [
    "is_2018 = (first_2018 <= df['PremiereDate']) & (df['PremiereDate'] <= last_2018)\n",
    "#df_2018\n",
    "df[is_2018]"
   ],
   "outputs": [
    {
     "output_type": "execute_result",
     "data": {
      "text/html": [
       "<div>\n",
       "<style scoped>\n",
       "    .dataframe tbody tr th:only-of-type {\n",
       "        vertical-align: middle;\n",
       "    }\n",
       "\n",
       "    .dataframe tbody tr th {\n",
       "        vertical-align: top;\n",
       "    }\n",
       "\n",
       "    .dataframe thead th {\n",
       "        text-align: right;\n",
       "    }\n",
       "</style>\n",
       "<table border=\"1\" class=\"dataframe\">\n",
       "  <thead>\n",
       "    <tr style=\"text-align: right;\">\n",
       "      <th></th>\n",
       "      <th>Genre</th>\n",
       "      <th>Premiere</th>\n",
       "      <th>Runtime</th>\n",
       "      <th>IMDB Score</th>\n",
       "      <th>Language</th>\n",
       "      <th>PremiereDate</th>\n",
       "    </tr>\n",
       "    <tr>\n",
       "      <th>Title</th>\n",
       "      <th></th>\n",
       "      <th></th>\n",
       "      <th></th>\n",
       "      <th></th>\n",
       "      <th></th>\n",
       "      <th></th>\n",
       "    </tr>\n",
       "  </thead>\n",
       "  <tbody>\n",
       "    <tr>\n",
       "      <th>22 July</th>\n",
       "      <td>Drama</td>\n",
       "      <td>October 10, 2018</td>\n",
       "      <td>144</td>\n",
       "      <td>6.8</td>\n",
       "      <td>English</td>\n",
       "      <td>2018-10-10</td>\n",
       "    </tr>\n",
       "    <tr>\n",
       "      <th>5 Star Christmas</th>\n",
       "      <td>Comedy</td>\n",
       "      <td>December 7, 2018</td>\n",
       "      <td>95</td>\n",
       "      <td>4.6</td>\n",
       "      <td>Italian</td>\n",
       "      <td>2018-12-07</td>\n",
       "    </tr>\n",
       "    <tr>\n",
       "      <th>6 Balloons</th>\n",
       "      <td>Drama</td>\n",
       "      <td>April 6, 2018</td>\n",
       "      <td>75</td>\n",
       "      <td>5.9</td>\n",
       "      <td>English</td>\n",
       "      <td>2018-04-06</td>\n",
       "    </tr>\n",
       "    <tr>\n",
       "      <th>A Christmas Prince: The Royal Wedding</th>\n",
       "      <td>Romantic comedy</td>\n",
       "      <td>November 30, 2018</td>\n",
       "      <td>92</td>\n",
       "      <td>5.3</td>\n",
       "      <td>English</td>\n",
       "      <td>2018-11-30</td>\n",
       "    </tr>\n",
       "    <tr>\n",
       "      <th>Alex Strangelove</th>\n",
       "      <td>Romantic comedy</td>\n",
       "      <td>June 8, 2018</td>\n",
       "      <td>99</td>\n",
       "      <td>6.3</td>\n",
       "      <td>English</td>\n",
       "      <td>2018-06-08</td>\n",
       "    </tr>\n",
       "    <tr>\n",
       "      <th>...</th>\n",
       "      <td>...</td>\n",
       "      <td>...</td>\n",
       "      <td>...</td>\n",
       "      <td>...</td>\n",
       "      <td>...</td>\n",
       "      <td>...</td>\n",
       "    </tr>\n",
       "    <tr>\n",
       "      <th>To All the Boys I've Loved Before</th>\n",
       "      <td>Romantic comedy</td>\n",
       "      <td>August 17, 2018</td>\n",
       "      <td>99</td>\n",
       "      <td>7.1</td>\n",
       "      <td>English</td>\n",
       "      <td>2018-08-17</td>\n",
       "    </tr>\n",
       "    <tr>\n",
       "      <th>To Each, Her Own</th>\n",
       "      <td>Romantic comedy</td>\n",
       "      <td>June 24, 2018</td>\n",
       "      <td>95</td>\n",
       "      <td>5.3</td>\n",
       "      <td>French</td>\n",
       "      <td>2018-06-24</td>\n",
       "    </tr>\n",
       "    <tr>\n",
       "      <th>Two Catalonias</th>\n",
       "      <td>Documentary</td>\n",
       "      <td>September 28, 2018</td>\n",
       "      <td>116</td>\n",
       "      <td>6.4</td>\n",
       "      <td>Spanish/Catalan</td>\n",
       "      <td>2018-09-28</td>\n",
       "    </tr>\n",
       "    <tr>\n",
       "      <th>When We First Met</th>\n",
       "      <td>Romantic comedy</td>\n",
       "      <td>February 9, 2018</td>\n",
       "      <td>97</td>\n",
       "      <td>6.4</td>\n",
       "      <td>English</td>\n",
       "      <td>2018-02-09</td>\n",
       "    </tr>\n",
       "    <tr>\n",
       "      <th>Zion</th>\n",
       "      <td>Documentary</td>\n",
       "      <td>August 10, 2018</td>\n",
       "      <td>11</td>\n",
       "      <td>7.2</td>\n",
       "      <td>English</td>\n",
       "      <td>2018-08-10</td>\n",
       "    </tr>\n",
       "  </tbody>\n",
       "</table>\n",
       "<p>90 rows × 6 columns</p>\n",
       "</div>"
      ],
      "text/plain": [
       "                                                 Genre            Premiere  \\\n",
       "Title                                                                        \n",
       "22 July                                          Drama    October 10, 2018   \n",
       "5 Star Christmas                                Comedy    December 7, 2018   \n",
       "6 Balloons                                       Drama       April 6, 2018   \n",
       "A Christmas Prince: The Royal Wedding  Romantic comedy   November 30, 2018   \n",
       "Alex Strangelove                       Romantic comedy        June 8, 2018   \n",
       "...                                                ...                 ...   \n",
       "To All the Boys I've Loved Before      Romantic comedy     August 17, 2018   \n",
       "To Each, Her Own                       Romantic comedy       June 24, 2018   \n",
       "Two Catalonias                             Documentary  September 28, 2018   \n",
       "When We First Met                      Romantic comedy    February 9, 2018   \n",
       "Zion                                       Documentary     August 10, 2018   \n",
       "\n",
       "                                       Runtime  IMDB Score         Language  \\\n",
       "Title                                                                         \n",
       "22 July                                    144         6.8          English   \n",
       "5 Star Christmas                            95         4.6          Italian   \n",
       "6 Balloons                                  75         5.9          English   \n",
       "A Christmas Prince: The Royal Wedding       92         5.3          English   \n",
       "Alex Strangelove                            99         6.3          English   \n",
       "...                                        ...         ...              ...   \n",
       "To All the Boys I've Loved Before           99         7.1          English   \n",
       "To Each, Her Own                            95         5.3           French   \n",
       "Two Catalonias                             116         6.4  Spanish/Catalan   \n",
       "When We First Met                           97         6.4          English   \n",
       "Zion                                        11         7.2          English   \n",
       "\n",
       "                                      PremiereDate  \n",
       "Title                                               \n",
       "22 July                                 2018-10-10  \n",
       "5 Star Christmas                        2018-12-07  \n",
       "6 Balloons                              2018-04-06  \n",
       "A Christmas Prince: The Royal Wedding   2018-11-30  \n",
       "Alex Strangelove                        2018-06-08  \n",
       "...                                            ...  \n",
       "To All the Boys I've Loved Before       2018-08-17  \n",
       "To Each, Her Own                        2018-06-24  \n",
       "Two Catalonias                          2018-09-28  \n",
       "When We First Met                       2018-02-09  \n",
       "Zion                                    2018-08-10  \n",
       "\n",
       "[90 rows x 6 columns]"
      ]
     },
     "metadata": {},
     "execution_count": 29
    }
   ],
   "metadata": {}
  },
  {
   "cell_type": "markdown",
   "source": [
    "## There is another way to do this by using the function [`apply`](https://pandas.pydata.org/docs/reference/api/pandas.DataFrame.apply.html).  It executes a method on rows or columns."
   ],
   "metadata": {}
  },
  {
   "cell_type": "markdown",
   "source": [
    "The apply() function applys a function to every row or column of a dataframe. We will define a function that check if the year represented by each cell in PremiereDate is 2018."
   ],
   "metadata": {}
  },
  {
   "cell_type": "code",
   "execution_count": 30,
   "source": [
    "def is_year_2018(premiere_date):\n",
    "    # to extract the year of a datetime object, use .year\n",
    "    return premiere_date.year == 2018"
   ],
   "outputs": [],
   "metadata": {}
  },
  {
   "cell_type": "markdown",
   "source": [
    "apply this `is_year_2018()` function to all cells in the columns `PremiereDate`"
   ],
   "metadata": {}
  },
  {
   "cell_type": "code",
   "execution_count": 31,
   "source": [
    "is_2018 = df['PremiereDate'].apply(is_year_2018)\n",
    "is_2018"
   ],
   "outputs": [
    {
     "output_type": "execute_result",
     "data": {
      "text/plain": [
       "Title\n",
       "#REALITYHIGH        False\n",
       "13th                False\n",
       "15 August           False\n",
       "22 July              True\n",
       "5 Star Christmas     True\n",
       "                    ...  \n",
       "Yeh Ballet          False\n",
       "Yes Day             False\n",
       "You've Got This     False\n",
       "Zion                 True\n",
       "�l�t?r�             False\n",
       "Name: PremiereDate, Length: 533, dtype: bool"
      ]
     },
     "metadata": {},
     "execution_count": 31
    }
   ],
   "metadata": {}
  },
  {
   "cell_type": "markdown",
   "source": [
    "Now, we can use this outcome to extract 2018-premiered movies"
   ],
   "metadata": {}
  },
  {
   "cell_type": "code",
   "execution_count": 32,
   "source": [
    "df[is_2018]"
   ],
   "outputs": [
    {
     "output_type": "execute_result",
     "data": {
      "text/html": [
       "<div>\n",
       "<style scoped>\n",
       "    .dataframe tbody tr th:only-of-type {\n",
       "        vertical-align: middle;\n",
       "    }\n",
       "\n",
       "    .dataframe tbody tr th {\n",
       "        vertical-align: top;\n",
       "    }\n",
       "\n",
       "    .dataframe thead th {\n",
       "        text-align: right;\n",
       "    }\n",
       "</style>\n",
       "<table border=\"1\" class=\"dataframe\">\n",
       "  <thead>\n",
       "    <tr style=\"text-align: right;\">\n",
       "      <th></th>\n",
       "      <th>Genre</th>\n",
       "      <th>Premiere</th>\n",
       "      <th>Runtime</th>\n",
       "      <th>IMDB Score</th>\n",
       "      <th>Language</th>\n",
       "      <th>PremiereDate</th>\n",
       "    </tr>\n",
       "    <tr>\n",
       "      <th>Title</th>\n",
       "      <th></th>\n",
       "      <th></th>\n",
       "      <th></th>\n",
       "      <th></th>\n",
       "      <th></th>\n",
       "      <th></th>\n",
       "    </tr>\n",
       "  </thead>\n",
       "  <tbody>\n",
       "    <tr>\n",
       "      <th>22 July</th>\n",
       "      <td>Drama</td>\n",
       "      <td>October 10, 2018</td>\n",
       "      <td>144</td>\n",
       "      <td>6.8</td>\n",
       "      <td>English</td>\n",
       "      <td>2018-10-10</td>\n",
       "    </tr>\n",
       "    <tr>\n",
       "      <th>5 Star Christmas</th>\n",
       "      <td>Comedy</td>\n",
       "      <td>December 7, 2018</td>\n",
       "      <td>95</td>\n",
       "      <td>4.6</td>\n",
       "      <td>Italian</td>\n",
       "      <td>2018-12-07</td>\n",
       "    </tr>\n",
       "    <tr>\n",
       "      <th>6 Balloons</th>\n",
       "      <td>Drama</td>\n",
       "      <td>April 6, 2018</td>\n",
       "      <td>75</td>\n",
       "      <td>5.9</td>\n",
       "      <td>English</td>\n",
       "      <td>2018-04-06</td>\n",
       "    </tr>\n",
       "    <tr>\n",
       "      <th>A Christmas Prince: The Royal Wedding</th>\n",
       "      <td>Romantic comedy</td>\n",
       "      <td>November 30, 2018</td>\n",
       "      <td>92</td>\n",
       "      <td>5.3</td>\n",
       "      <td>English</td>\n",
       "      <td>2018-11-30</td>\n",
       "    </tr>\n",
       "    <tr>\n",
       "      <th>Alex Strangelove</th>\n",
       "      <td>Romantic comedy</td>\n",
       "      <td>June 8, 2018</td>\n",
       "      <td>99</td>\n",
       "      <td>6.3</td>\n",
       "      <td>English</td>\n",
       "      <td>2018-06-08</td>\n",
       "    </tr>\n",
       "    <tr>\n",
       "      <th>...</th>\n",
       "      <td>...</td>\n",
       "      <td>...</td>\n",
       "      <td>...</td>\n",
       "      <td>...</td>\n",
       "      <td>...</td>\n",
       "      <td>...</td>\n",
       "    </tr>\n",
       "    <tr>\n",
       "      <th>To All the Boys I've Loved Before</th>\n",
       "      <td>Romantic comedy</td>\n",
       "      <td>August 17, 2018</td>\n",
       "      <td>99</td>\n",
       "      <td>7.1</td>\n",
       "      <td>English</td>\n",
       "      <td>2018-08-17</td>\n",
       "    </tr>\n",
       "    <tr>\n",
       "      <th>To Each, Her Own</th>\n",
       "      <td>Romantic comedy</td>\n",
       "      <td>June 24, 2018</td>\n",
       "      <td>95</td>\n",
       "      <td>5.3</td>\n",
       "      <td>French</td>\n",
       "      <td>2018-06-24</td>\n",
       "    </tr>\n",
       "    <tr>\n",
       "      <th>Two Catalonias</th>\n",
       "      <td>Documentary</td>\n",
       "      <td>September 28, 2018</td>\n",
       "      <td>116</td>\n",
       "      <td>6.4</td>\n",
       "      <td>Spanish/Catalan</td>\n",
       "      <td>2018-09-28</td>\n",
       "    </tr>\n",
       "    <tr>\n",
       "      <th>When We First Met</th>\n",
       "      <td>Romantic comedy</td>\n",
       "      <td>February 9, 2018</td>\n",
       "      <td>97</td>\n",
       "      <td>6.4</td>\n",
       "      <td>English</td>\n",
       "      <td>2018-02-09</td>\n",
       "    </tr>\n",
       "    <tr>\n",
       "      <th>Zion</th>\n",
       "      <td>Documentary</td>\n",
       "      <td>August 10, 2018</td>\n",
       "      <td>11</td>\n",
       "      <td>7.2</td>\n",
       "      <td>English</td>\n",
       "      <td>2018-08-10</td>\n",
       "    </tr>\n",
       "  </tbody>\n",
       "</table>\n",
       "<p>90 rows × 6 columns</p>\n",
       "</div>"
      ],
      "text/plain": [
       "                                                 Genre            Premiere  \\\n",
       "Title                                                                        \n",
       "22 July                                          Drama    October 10, 2018   \n",
       "5 Star Christmas                                Comedy    December 7, 2018   \n",
       "6 Balloons                                       Drama       April 6, 2018   \n",
       "A Christmas Prince: The Royal Wedding  Romantic comedy   November 30, 2018   \n",
       "Alex Strangelove                       Romantic comedy        June 8, 2018   \n",
       "...                                                ...                 ...   \n",
       "To All the Boys I've Loved Before      Romantic comedy     August 17, 2018   \n",
       "To Each, Her Own                       Romantic comedy       June 24, 2018   \n",
       "Two Catalonias                             Documentary  September 28, 2018   \n",
       "When We First Met                      Romantic comedy    February 9, 2018   \n",
       "Zion                                       Documentary     August 10, 2018   \n",
       "\n",
       "                                       Runtime  IMDB Score         Language  \\\n",
       "Title                                                                         \n",
       "22 July                                    144         6.8          English   \n",
       "5 Star Christmas                            95         4.6          Italian   \n",
       "6 Balloons                                  75         5.9          English   \n",
       "A Christmas Prince: The Royal Wedding       92         5.3          English   \n",
       "Alex Strangelove                            99         6.3          English   \n",
       "...                                        ...         ...              ...   \n",
       "To All the Boys I've Loved Before           99         7.1          English   \n",
       "To Each, Her Own                            95         5.3           French   \n",
       "Two Catalonias                             116         6.4  Spanish/Catalan   \n",
       "When We First Met                           97         6.4          English   \n",
       "Zion                                        11         7.2          English   \n",
       "\n",
       "                                      PremiereDate  \n",
       "Title                                               \n",
       "22 July                                 2018-10-10  \n",
       "5 Star Christmas                        2018-12-07  \n",
       "6 Balloons                              2018-04-06  \n",
       "A Christmas Prince: The Royal Wedding   2018-11-30  \n",
       "Alex Strangelove                        2018-06-08  \n",
       "...                                            ...  \n",
       "To All the Boys I've Loved Before       2018-08-17  \n",
       "To Each, Her Own                        2018-06-24  \n",
       "Two Catalonias                          2018-09-28  \n",
       "When We First Met                       2018-02-09  \n",
       "Zion                                    2018-08-10  \n",
       "\n",
       "[90 rows x 6 columns]"
      ]
     },
     "metadata": {},
     "execution_count": 32
    }
   ],
   "metadata": {}
  },
  {
   "cell_type": "markdown",
   "source": [
    "The function `is_year_2018()` only contains 1 line of code, python provides a way to define the so-called inline functions.  \n",
    "The keyword `lambda` indicate an inline function. Use `lambda arg: statement`"
   ],
   "metadata": {}
  },
  {
   "cell_type": "code",
   "execution_count": 33,
   "source": [
    "is_2018 = df['PremiereDate'].apply(lambda d: d.year == 2018)\n",
    "df[is_2018]"
   ],
   "outputs": [
    {
     "output_type": "execute_result",
     "data": {
      "text/html": [
       "<div>\n",
       "<style scoped>\n",
       "    .dataframe tbody tr th:only-of-type {\n",
       "        vertical-align: middle;\n",
       "    }\n",
       "\n",
       "    .dataframe tbody tr th {\n",
       "        vertical-align: top;\n",
       "    }\n",
       "\n",
       "    .dataframe thead th {\n",
       "        text-align: right;\n",
       "    }\n",
       "</style>\n",
       "<table border=\"1\" class=\"dataframe\">\n",
       "  <thead>\n",
       "    <tr style=\"text-align: right;\">\n",
       "      <th></th>\n",
       "      <th>Genre</th>\n",
       "      <th>Premiere</th>\n",
       "      <th>Runtime</th>\n",
       "      <th>IMDB Score</th>\n",
       "      <th>Language</th>\n",
       "      <th>PremiereDate</th>\n",
       "    </tr>\n",
       "    <tr>\n",
       "      <th>Title</th>\n",
       "      <th></th>\n",
       "      <th></th>\n",
       "      <th></th>\n",
       "      <th></th>\n",
       "      <th></th>\n",
       "      <th></th>\n",
       "    </tr>\n",
       "  </thead>\n",
       "  <tbody>\n",
       "    <tr>\n",
       "      <th>22 July</th>\n",
       "      <td>Drama</td>\n",
       "      <td>October 10, 2018</td>\n",
       "      <td>144</td>\n",
       "      <td>6.8</td>\n",
       "      <td>English</td>\n",
       "      <td>2018-10-10</td>\n",
       "    </tr>\n",
       "    <tr>\n",
       "      <th>5 Star Christmas</th>\n",
       "      <td>Comedy</td>\n",
       "      <td>December 7, 2018</td>\n",
       "      <td>95</td>\n",
       "      <td>4.6</td>\n",
       "      <td>Italian</td>\n",
       "      <td>2018-12-07</td>\n",
       "    </tr>\n",
       "    <tr>\n",
       "      <th>6 Balloons</th>\n",
       "      <td>Drama</td>\n",
       "      <td>April 6, 2018</td>\n",
       "      <td>75</td>\n",
       "      <td>5.9</td>\n",
       "      <td>English</td>\n",
       "      <td>2018-04-06</td>\n",
       "    </tr>\n",
       "    <tr>\n",
       "      <th>A Christmas Prince: The Royal Wedding</th>\n",
       "      <td>Romantic comedy</td>\n",
       "      <td>November 30, 2018</td>\n",
       "      <td>92</td>\n",
       "      <td>5.3</td>\n",
       "      <td>English</td>\n",
       "      <td>2018-11-30</td>\n",
       "    </tr>\n",
       "    <tr>\n",
       "      <th>Alex Strangelove</th>\n",
       "      <td>Romantic comedy</td>\n",
       "      <td>June 8, 2018</td>\n",
       "      <td>99</td>\n",
       "      <td>6.3</td>\n",
       "      <td>English</td>\n",
       "      <td>2018-06-08</td>\n",
       "    </tr>\n",
       "    <tr>\n",
       "      <th>...</th>\n",
       "      <td>...</td>\n",
       "      <td>...</td>\n",
       "      <td>...</td>\n",
       "      <td>...</td>\n",
       "      <td>...</td>\n",
       "      <td>...</td>\n",
       "    </tr>\n",
       "    <tr>\n",
       "      <th>To All the Boys I've Loved Before</th>\n",
       "      <td>Romantic comedy</td>\n",
       "      <td>August 17, 2018</td>\n",
       "      <td>99</td>\n",
       "      <td>7.1</td>\n",
       "      <td>English</td>\n",
       "      <td>2018-08-17</td>\n",
       "    </tr>\n",
       "    <tr>\n",
       "      <th>To Each, Her Own</th>\n",
       "      <td>Romantic comedy</td>\n",
       "      <td>June 24, 2018</td>\n",
       "      <td>95</td>\n",
       "      <td>5.3</td>\n",
       "      <td>French</td>\n",
       "      <td>2018-06-24</td>\n",
       "    </tr>\n",
       "    <tr>\n",
       "      <th>Two Catalonias</th>\n",
       "      <td>Documentary</td>\n",
       "      <td>September 28, 2018</td>\n",
       "      <td>116</td>\n",
       "      <td>6.4</td>\n",
       "      <td>Spanish/Catalan</td>\n",
       "      <td>2018-09-28</td>\n",
       "    </tr>\n",
       "    <tr>\n",
       "      <th>When We First Met</th>\n",
       "      <td>Romantic comedy</td>\n",
       "      <td>February 9, 2018</td>\n",
       "      <td>97</td>\n",
       "      <td>6.4</td>\n",
       "      <td>English</td>\n",
       "      <td>2018-02-09</td>\n",
       "    </tr>\n",
       "    <tr>\n",
       "      <th>Zion</th>\n",
       "      <td>Documentary</td>\n",
       "      <td>August 10, 2018</td>\n",
       "      <td>11</td>\n",
       "      <td>7.2</td>\n",
       "      <td>English</td>\n",
       "      <td>2018-08-10</td>\n",
       "    </tr>\n",
       "  </tbody>\n",
       "</table>\n",
       "<p>90 rows × 6 columns</p>\n",
       "</div>"
      ],
      "text/plain": [
       "                                                 Genre            Premiere  \\\n",
       "Title                                                                        \n",
       "22 July                                          Drama    October 10, 2018   \n",
       "5 Star Christmas                                Comedy    December 7, 2018   \n",
       "6 Balloons                                       Drama       April 6, 2018   \n",
       "A Christmas Prince: The Royal Wedding  Romantic comedy   November 30, 2018   \n",
       "Alex Strangelove                       Romantic comedy        June 8, 2018   \n",
       "...                                                ...                 ...   \n",
       "To All the Boys I've Loved Before      Romantic comedy     August 17, 2018   \n",
       "To Each, Her Own                       Romantic comedy       June 24, 2018   \n",
       "Two Catalonias                             Documentary  September 28, 2018   \n",
       "When We First Met                      Romantic comedy    February 9, 2018   \n",
       "Zion                                       Documentary     August 10, 2018   \n",
       "\n",
       "                                       Runtime  IMDB Score         Language  \\\n",
       "Title                                                                         \n",
       "22 July                                    144         6.8          English   \n",
       "5 Star Christmas                            95         4.6          Italian   \n",
       "6 Balloons                                  75         5.9          English   \n",
       "A Christmas Prince: The Royal Wedding       92         5.3          English   \n",
       "Alex Strangelove                            99         6.3          English   \n",
       "...                                        ...         ...              ...   \n",
       "To All the Boys I've Loved Before           99         7.1          English   \n",
       "To Each, Her Own                            95         5.3           French   \n",
       "Two Catalonias                             116         6.4  Spanish/Catalan   \n",
       "When We First Met                           97         6.4          English   \n",
       "Zion                                        11         7.2          English   \n",
       "\n",
       "                                      PremiereDate  \n",
       "Title                                               \n",
       "22 July                                 2018-10-10  \n",
       "5 Star Christmas                        2018-12-07  \n",
       "6 Balloons                              2018-04-06  \n",
       "A Christmas Prince: The Royal Wedding   2018-11-30  \n",
       "Alex Strangelove                        2018-06-08  \n",
       "...                                            ...  \n",
       "To All the Boys I've Loved Before       2018-08-17  \n",
       "To Each, Her Own                        2018-06-24  \n",
       "Two Catalonias                          2018-09-28  \n",
       "When We First Met                       2018-02-09  \n",
       "Zion                                    2018-08-10  \n",
       "\n",
       "[90 rows x 6 columns]"
      ]
     },
     "metadata": {},
     "execution_count": 33
    }
   ],
   "metadata": {}
  }
 ],
 "metadata": {
  "interpreter": {
   "hash": "aee8b7b246df8f9039afb4144a1f6fd8d2ca17a180786b69acc140d282b71a49"
  },
  "kernelspec": {
   "name": "python3",
   "display_name": "Python 3.7.5 64-bit"
  },
  "language_info": {
   "codemirror_mode": {
    "name": "ipython",
    "version": 3
   },
   "file_extension": ".py",
   "mimetype": "text/x-python",
   "name": "python",
   "nbconvert_exporter": "python",
   "pygments_lexer": "ipython3",
   "version": "3.7.5"
  }
 },
 "nbformat": 4,
 "nbformat_minor": 2
}