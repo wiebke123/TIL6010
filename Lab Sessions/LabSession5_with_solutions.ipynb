{
 "cells": [
  {
   "cell_type": "markdown",
   "id": "ba7a5dd8",
   "metadata": {},
   "source": [
    "Import relevant packages here."
   ]
  },
  {
   "cell_type": "code",
   "execution_count": 3,
   "id": "21ea1eb7",
   "metadata": {},
   "outputs": [],
   "source": [
    "import matplotlib.pyplot as plt\n",
    "import pandas\n",
    "import numpy as np\n",
    "import math"
   ]
  },
  {
   "cell_type": "markdown",
   "id": "1725519c",
   "metadata": {},
   "source": [
    "Load the data and verify it is loaded correctly.\n",
    "<ul>\n",
    "    <li>Print it (head, tail, or specific rows, choose a sensible number of rows).</li>\n",
    "    <li>Compare it to the source file.</li>\n",
    "<ul>"
   ]
  },
  {
   "cell_type": "code",
   "execution_count": 4,
   "id": "0c1313e6",
   "metadata": {},
   "outputs": [
    {
     "name": "stdout",
     "output_type": "stream",
     "text": [
      "             dv         s         a\n",
      "0     -0.743240   53.5427  1.242570\n",
      "1     -0.557230   53.6120  1.777920\n",
      "2     -0.454769   53.6541  0.544107\n",
      "3     -0.525396   53.7030 -0.294755\n",
      "4     -0.601285   53.7592 -0.290961\n",
      "...         ...       ...       ...\n",
      "73903  5.198740  116.1390 -0.795081\n",
      "73904  5.104280  115.6270 -0.314263\n",
      "73905  5.137640  115.1180  0.232283\n",
      "73906  5.153480  114.5990  0.262078\n",
      "73907  5.258680  113.1120 -0.612440\n",
      "\n",
      "[73908 rows x 3 columns]\n"
     ]
    }
   ],
   "source": [
    "data = pandas.read_csv('cf_data.csv')\n",
    "print(data)"
   ]
  },
  {
   "cell_type": "markdown",
   "id": "0f6d5753",
   "metadata": {},
   "source": [
    "In the ensuing, you will use <code>numpy</code>.\n",
    "\n",
    "Lets create a grid for the values to plot. But first create <b>two arrays named <code>dv</code> and <code>s</code></b> using <code>numpy.linspace</code> that hold the grid values at the relevant indices in their respective dimension of the grid.\n",
    "\n",
    "Create a <b>grid named <code>a</code></b> with zeros using <code>numpy.zeros</code> in to which calculated acceleration values can be stored.<br>\n",
    "<br>\n",
    "Let the grid span:<br>\n",
    "<ul>\n",
    "    <li>Speed difference <code>dv</code> [m/s]\n",
    "        <ul>\n",
    "            <li>From -10 till 10</li>\n",
    "            <li>With 41 evenly spaced values</li>\n",
    "        </ul>\n",
    "    </li>\n",
    "    <li>Headway <code>s</code> [m]\n",
    "        <ul>\n",
    "            <li>From 0 till 200</li>\n",
    "            <li>With 21 evenly spaced values</li>\n",
    "        </ul>\n",
    "    </li>\n",
    "</ul>"
   ]
  },
  {
   "cell_type": "code",
   "execution_count": 5,
   "id": "2a5e3ef9",
   "metadata": {},
   "outputs": [],
   "source": [
    "dv = np.linspace(-10, 10, 41)\n",
    "s = np.linspace(0, 200, 21)\n",
    "a = np.zeros((len(s), len(dv)))"
   ]
  },
  {
   "cell_type": "markdown",
   "id": "fedab6cf",
   "metadata": {},
   "source": [
    "Create from the imported data 3 separate <code>numpy</code> arrays for each column <code>dv</code>, <code>s</code> and <code>a</code>. (We do this for speed reasons later.)\n",
    "<ul>\n",
    "    <li>Make sure to name them differently from the arrays that belong to the grid as above.</li>\n",
    "    <li>You can access the data of each column in a <code>DataFrame</code> using <code>data.xxx</code> where <code>xxx</code> is the column name (not as a string).</li>\n",
    "    <li>Use the method <code>to_numpy()</code> to convert a column to a <code>numpy</code> array.</li>\n",
    "</ul>"
   ]
  },
  {
   "cell_type": "code",
   "execution_count": 6,
   "id": "8133ecdc",
   "metadata": {},
   "outputs": [],
   "source": [
    "DV = data.dv.to_numpy()\n",
    "S = data.s.to_numpy()\n",
    "A = data.a.to_numpy()"
   ]
  },
  {
   "cell_type": "markdown",
   "id": "bbf1585a",
   "metadata": {},
   "source": [
    "Create an algorithm that calculates all the acceleration values and stores them in the grid. The algorithm is described visually in the last part of last Mondays' lecture. At each grid point, it calculates a weighted mean of all measurements. The weights are given by an exponential function, based on the 'distance' between the grid point, and the measurement values of <code>dv</code> and <code>s</code>. To get you started, how many <code>for</code>-loops do you need?<br>\n",
    "<br>\n",
    "For this you will need <code>math</code>.<br>\n",
    "Use an <i>upsilon</i> of 1.5m/s and a <i>sigma</i> of 30m.<br>\n",
    "<br>\n",
    "<b>Warning:</b> This calculation may take some time. So:\n",
    "<ul>\n",
    "    <li>Print a line for each iteration of the outer-most <code>for</code>-loop that shows you the progress.</li>\n",
    "    <li>Test you code by running it only on the first 50 measurements of the data.</li>\n",
    "</ul>"
   ]
  },
  {
   "cell_type": "code",
   "execution_count": 10,
   "id": "12017839",
   "metadata": {},
   "outputs": [
    {
     "name": "stdout",
     "output_type": "stream",
     "text": [
      "At line 0 of 20 (0.00%)\n",
      "At line 1 of 20 (4.76%)\n",
      "At line 2 of 20 (9.52%)\n",
      "At line 3 of 20 (14.29%)\n",
      "At line 4 of 20 (19.05%)\n",
      "At line 5 of 20 (23.81%)\n",
      "At line 6 of 20 (28.57%)\n",
      "At line 7 of 20 (33.33%)\n",
      "At line 8 of 20 (38.10%)\n",
      "At line 9 of 20 (42.86%)\n",
      "At line 10 of 20 (47.62%)\n",
      "At line 11 of 20 (52.38%)\n",
      "At line 12 of 20 (57.14%)\n",
      "At line 13 of 20 (61.90%)\n",
      "At line 14 of 20 (66.67%)\n",
      "At line 15 of 20 (71.43%)\n",
      "At line 16 of 20 (76.19%)\n",
      "At line 17 of 20 (80.95%)\n",
      "At line 18 of 20 (85.71%)\n",
      "At line 19 of 20 (90.48%)\n",
      "At line 20 of 20 (95.24%)\n"
     ]
    }
   ],
   "source": [
    "upsilon = 1.5\n",
    "sigma = 30\n",
    "\n",
    "for i in range(len(s)):\n",
    "    print('At line %i of %i (%.2f%%)' % (i, len(s)-1, 100 * i / len(s)))\n",
    "    for j in range(len(dv)):\n",
    "        sumWA = 0\n",
    "        sumW = 0\n",
    "        for k in range(len(A)):\n",
    "            w = math.exp(-abs(DV[k]-dv[j])/upsilon - abs(S[k]-s[i])/sigma)\n",
    "            sumWA += w * A[k]\n",
    "            sumW += w\n",
    "        a[i][j] = sumWA / sumW"
   ]
  },
  {
   "cell_type": "markdown",
   "id": "52cbac3a",
   "metadata": {},
   "source": [
    "The following code will plot the data for you. Does it make sense when considering:\n",
    "<ul>\n",
    "    <li>Negative (slower than leader) and positive (faster than leader) speed differences?</li>\n",
    "    <li>Small and large headways?</li>\n",
    "</ul>"
   ]
  },
  {
   "cell_type": "code",
   "execution_count": 9,
   "id": "27a84b71",
   "metadata": {},
   "outputs": [
    {
     "data": {
      "image/png": "[encoded data removed]",
      "text/plain": [
       "<Figure size 720x504 with 2 Axes>"
      ]
     },
     "metadata": {
      "needs_background": "light"
     },
     "output_type": "display_data"
    }
   ],
   "source": [
    "X, Y = np.meshgrid(dv, s)\n",
    "axs = plt.axes()\n",
    "p = axs.pcolor(X, Y, a, shading='nearest')\n",
    "axs.set_title('Acceleration [m/s/s]')\n",
    "axs.set_xlabel('Speed difference [m/s]')\n",
    "axs.set_ylabel('Headway [m]')\n",
    "axs.figure.colorbar(p);\n",
    "axs.figure.set_size_inches(10, 7)"
   ]
  }
 ],
 "metadata": {
  "kernelspec": {
   "display_name": "Python 3",
   "language": "python",
   "name": "python3"
  },
  "language_info": {
   "codemirror_mode": {
    "name": "ipython",
    "version": 3
   },
   "file_extension": ".py",
   "mimetype": "text/x-python",
   "name": "python",
   "nbconvert_exporter": "python",
   "pygments_lexer": "ipython3",
   "version": "3.8.8"
  }
 },
 "nbformat": 4,
 "nbformat_minor": 5
}
