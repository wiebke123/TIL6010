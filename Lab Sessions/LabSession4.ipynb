{
 "cells": [
  {
   "cell_type": "markdown",
   "metadata": {},
   "source": [
    "# Fibonacci\n",
    "\n",
    "Write a function to get the [Fibonacci](https://en.wikipedia.org/wiki/Fibonacci_number) series in which all numbers are smaller or equal to a given number.  \n",
    "E.g: Given the upper bound of 10, the function should return [0, 1, 1, 2, 3, 5, 8]"
   ]
  },
  {
   "cell_type": "markdown",
   "metadata": {},
   "source": [
    "# Character counts\n",
    "\n",
    "Write a function that count the frequencies of each character in a given string. The function should return a dictionary, in which each key is a character and each value is the corresponding frequency. All characters are treated as their lowercases, meaning 'E' is the same as 'e'.   \n",
    "For example: Calling the function for 'Hello' will return {'h': 1, 'e': 1, 'l': 2, 'o': 1}."
   ]
  },
  {
   "cell_type": "markdown",
   "metadata": {},
   "source": [
    "# Dictionary\n",
    "\n",
    "Write a function to combine two dictionaries. For each common key, if the values from the two dictionaries are different, put them in a list and assign this list as the value in the combined dictionary.\n",
    "\n",
    "Extend the function to except more than two dictionaries as arguments."
   ]
  },
  {
   "cell_type": "markdown",
   "metadata": {},
   "source": [
    "# Extrema\n",
    "\n",
    "Given a list of numbers representing a series, count how many time the values change their trends, i.e. from increasing to descreasing and vi versa.  \n",
    "Examples of these changes are:\n",
    "- [0, 2, 1]\n",
    "- [0, -2, -2, 3]"
   ]
  },
  {
   "cell_type": "markdown",
   "metadata": {},
   "source": [
    "# The stock span problem\n",
    "\n",
    ">[The stock span problem](https://www.geeksforgeeks.org/the-stock-span-problem/) is a financial problem where we have a series of n daily price quotes for a stock and we need to calculate span of stock’s price for all n days. \n",
    "The span Si of the stock’s price on a given day i is defined as the maximum number of consecutive days just before the given day, for which the price of the stock on the current day is less than or equal to its price on the given day. \n",
    "For example, if an array of 7 days prices is given as {100, 80, 60, 70, 60, 75, 85}, then the span values for corresponding 7 days are {1, 1, 1, 2, 1, 4, 6} "
   ]
  },
  {
   "cell_type": "markdown",
   "metadata": {},
   "source": [
    "# Pascal's triangle"
   ]
  },
  {
   "cell_type": "markdown",
   "metadata": {},
   "source": [
    "Write a function to print the first `N` line of [Pascal's triangle](https://en.wikipedia.org/wiki/Pascal's_triangle).  \n",
    "You can either print values or format the outputs to make it look pretty (like a triangle)"
   ]
  },
  {
   "cell_type": "markdown",
   "metadata": {},
   "source": [
    "# Approximate $\\pi$"
   ]
  },
  {
   "cell_type": "code",
   "execution_count": 17,
   "metadata": {},
   "outputs": [],
   "source": [
    "from random import random"
   ]
  },
  {
   "cell_type": "markdown",
   "metadata": {},
   "source": [
    "One method to approximate the value of $\\pi$ is through simulation. Given the function `random` generates a number in the range $[0,1]$ randomly, write a function to approxmiate $\\pi$.  \n",
    "\n",
    "*Hints:*\n",
    "- $\\pi$ is the area of a cirle with radius of 1.\n",
    "- For any random point in the unit square (positions top-right of the origin), the change of this point belonging to the quarter unit circle is $\\pi/4$"
   ]
  }
 ],
 "metadata": {
  "interpreter": {
   "hash": "aee8b7b246df8f9039afb4144a1f6fd8d2ca17a180786b69acc140d282b71a49"
  },
  "kernelspec": {
   "display_name": "Python 3",
   "language": "python",
   "name": "python3"
  },
  "language_info": {
   "codemirror_mode": {
    "name": "ipython",
    "version": 3
   },
   "file_extension": ".py",
   "mimetype": "text/x-python",
   "name": "python",
   "nbconvert_exporter": "python",
   "pygments_lexer": "ipython3",
   "version": "3.8.8"
  }
 },
 "nbformat": 4,
 "nbformat_minor": 2
}
