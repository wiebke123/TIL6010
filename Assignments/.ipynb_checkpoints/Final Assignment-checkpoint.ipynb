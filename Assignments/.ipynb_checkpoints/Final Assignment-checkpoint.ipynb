{
 "cells": [
  {
   "cell_type": "markdown",
   "metadata": {
    "heading_collapsed": true
   },
   "source": [
    "# General requirements for the assignment"
   ]
  },
  {
   "cell_type": "markdown",
   "metadata": {
    "hidden": true
   },
   "source": [
    "- Make appropriate comments to your code\n",
    "- Use Markdown cells to provide your answers (when applicable)\n",
    "- Stick to Pep8 standard as much as possible for your coding\n",
    "- Submit through GitHub\n",
    "- Tag the commit as *Final submission of graded assignment*\n",
    "- Provide your GitHub URL to the notebook as the submission for the Brightspace assignment page\n",
    "- Post errors in the course Github's issue page for faster feedback\n",
    "- ***DO NOT* forget to remove your review partner from your repository before you put the code in Github to avoid plagiarism**\n",
    "\n",
    "### DEADLINE FOR THIS ASSIGNMENT IS 29 OCTOBER 2021 BEFORE 23:59\n",
    "\n",
    "<hr />"
   ]
  },
  {
   "cell_type": "markdown",
   "metadata": {
    "heading_collapsed": true
   },
   "source": [
    "# Assignment\n"
   ]
  },
  {
   "cell_type": "markdown",
   "metadata": {
    "hidden": true
   },
   "source": [
    "In the past 7 weeks, you have been working with Google mobility data. Now, let's combine that data with covid-19 data to see if we can derive some *interesting* insights. There are multiple sources of COVID-19 data. Maybe the country that you chose has its separate data source. \n",
    "- One such data source is from [OurWorldInData](https://github.com/owid/covid-19-data/tree/master/public/data), which contains daily covid data from 217 countries and the corresponding government response measured as **stringency index**.\n",
    "- Another data source that provides municipal, provincial, and nationwide covid data for the whole of **Netherlands** is [here](https://github.com/J535D165/CoronaWatchNL).\n",
    "\n",
    "Feel free to use either of these data sources or something you found on your own!"
   ]
  },
  {
   "cell_type": "markdown",
   "metadata": {
    "heading_collapsed": true,
    "hidden": true
   },
   "source": [
    "## Part I - Data import"
   ]
  },
  {
   "cell_type": "markdown",
   "metadata": {
    "hidden": true
   },
   "source": [
    "1. *[5 points]* Create a new dataframe\n",
    "\n",
    "This dataframe should combine mobility data and covid-19 data of your chosen country. There are different types of covid data available such as the number of positively tested cases, hospital admission, fatality rates, government stringency index, etc. Provide a brief explanation or data dictionary of your new dataframe. Keep in mind that you need to associate these two datasets, then pick municipal, provincial, or nationwide data accordingly."
   ]
  },
  {
   "cell_type": "markdown",
   "metadata": {
    "heading_collapsed": true,
    "hidden": true
   },
   "source": [
    "## Part II - Data processing"
   ]
  },
  {
   "cell_type": "markdown",
   "metadata": {
    "hidden": true
   },
   "source": [
    "As you already know, there are various peaks/valleys in the changes of mobility activity data. In this assignment, find peaks/valleys (if available) in the covid data.\n",
    "\n",
    "After identifying peaks from two datasets, you need to check if there are common peaks. Most likely, the peaks do not intersect on the same day, so it should be possible to provide a certain offset to combine peaks/valleys that are close to each other. A visual representation of this problem is shown in the following image:\n",
    "\n",
    "<p align=\"center\">\n",
    "  <img src=\"Images/offset.png\" alt=\"drawing\" width=\"500\"/>\n",
    "</p>\n"
   ]
  },
  {
   "cell_type": "markdown",
   "metadata": {
    "hidden": true
   },
   "source": [
    "Below are the challenges that need to be solved for this part:\n",
    "\n",
    "2. *[8 points]* Provide pseudo-code or logic behind the offset algorithms that you will develop for the following questions (3. and 4.) Use bullet points/flow chart/pseudocode/other means to explain the logic.\n",
    "3. *[10 points]* Find all the common peaks/valleys of a mobility activity pattern between municipality/provinces/nation within a range of time offsets\n",
    "4. *[2 points]* Find all the common peaks/valleys of the selected covid data between municipality/provinces/nation within a range of time offsets\n",
    "5. *[8 points]* Relationship between common peaks/valleys (municipal/provincial/nationwide) in activities and covid data (municipal/provincial/nationwide) (time-offset) (either through observation or using programmable logic). If you only use visual observational methods, you won't get maximum points for this question."
   ]
  },
  {
   "cell_type": "markdown",
   "metadata": {
    "heading_collapsed": true,
    "hidden": true
   },
   "source": [
    "## Part III - Data visualisation"
   ]
  },
  {
   "cell_type": "markdown",
   "metadata": {
    "hidden": true
   },
   "source": [
    "6. *[12 points]* Use visualization to tell the mobility and covid data story of a specific municipality/province/nationwide. This is a more exploration question. Explain the logic behind your story and also your visualization choices"
   ]
  },
  {
   "cell_type": "markdown",
   "metadata": {
    "heading_collapsed": true
   },
   "source": [
    "# Rubrics"
   ]
  },
  {
   "cell_type": "markdown",
   "metadata": {
    "heading_collapsed": true,
    "hidden": true
   },
   "source": [
    "## Overall grading"
   ]
  },
  {
   "cell_type": "markdown",
   "metadata": {
    "hidden": true
   },
   "source": [
    "- 10% of the final grade is for code review for the final assignment. Information about partners will be released after the assignment submission deadline.\n",
    "\n",
    "- 90% of the final grade is divided among the following categories, which vary for different questions (see image below):\n",
    "    - narrative\n",
    "    - coding/logic - correctness\n",
    "    - readability - [pep8 standard](https://www.python.org/dev/peps/pep-0008/)"
   ]
  },
  {
   "cell_type": "markdown",
   "metadata": {
    "hidden": true
   },
   "source": [
    "<p align=\"center\">\n",
    "  <img src=\"Images/rubric.png\" alt=\"drawing\" width=\"500\"/>\n",
    "</p>"
   ]
  },
  {
   "cell_type": "markdown",
   "metadata": {
    "heading_collapsed": true,
    "hidden": true
   },
   "source": [
    "## Rubrics for each question in the assignment"
   ]
  },
  {
   "cell_type": "markdown",
   "metadata": {
    "hidden": true
   },
   "source": [
    "Criteria:\n",
    "1. Consistent dataset throughout the assignment, combined dataframe\n",
    "2. Correctness, generalisability, clarity, simplicity\n",
    "3. Working code, visualization of the result, generalisability\n",
    "4. Generalisability\n",
    "5. Logic, visualization\n",
    "6. Logic, story, visuals, clarity, correctness, readability\n",
    "\n",
    "You can obtain maximum points for the question if you have:\n",
    "- Excellent stories\n",
    "- Interactive visualisation \n",
    "- Programmable logic in *question 5*\n",
    "\n",
    "You can obtain bonus points if you use:\n",
    "- Extra datasets (eg: population)"
   ]
  }
 ],
 "metadata": {
  "kernelspec": {
   "display_name": "Python 3 (ipykernel)",
   "language": "python",
   "name": "python3"
  },
  "language_info": {
   "codemirror_mode": {
    "name": "ipython",
    "version": 3
   },
   "file_extension": ".py",
   "mimetype": "text/x-python",
   "name": "python",
   "nbconvert_exporter": "python",
   "pygments_lexer": "ipython3",
   "version": "3.7.11"
  }
 },
 "nbformat": 4,
 "nbformat_minor": 4
}
