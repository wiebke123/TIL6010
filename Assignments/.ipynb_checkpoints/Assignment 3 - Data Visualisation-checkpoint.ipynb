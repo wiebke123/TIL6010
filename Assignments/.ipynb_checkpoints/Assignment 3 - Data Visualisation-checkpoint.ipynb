{
 "cells": [
  {
   "cell_type": "markdown",
   "metadata": {},
   "source": [
    "# General requirements for the assignment\n",
    "\n",
    "- Make appropriate comments to your code\n",
    "- Use Markdown cells to provide your answers (when applicable)\n",
    "- Add your code when there is the comment \"YOUR CODE HERE\".\n",
    "- Stick to Pep8 standard as much as possible for your coding\n",
    "- Tag the commit as *Final submission of Assignment 3*\n",
    "- Submit through GitHub\n",
    "- Provide your GitHub url to the Ipython notebook as the submisison for Brightspace assignment 3\n",
    "- Post (interesting) errors in the course Github's issue page\n",
    "\n",
    "# Assignment Intro\n",
    "\n",
    "In this assignment, you will be asked to make some visualisations on the dataset that you worked with in the previous assignments.\n",
    "\n",
    "### DEADLINE FOR THIS ASSIGNMENT IS 15 OCTOBER 2021 BEFORE 23:59\n",
    "\n",
    "<hr />"
   ]
  },
  {
   "cell_type": "markdown",
   "metadata": {
    "heading_collapsed": true
   },
   "source": [
    "## Import libraries\n",
    "Update this list as you go along the assigment"
   ]
  },
  {
   "cell_type": "code",
   "execution_count": 1,
   "metadata": {
    "hidden": true
   },
   "outputs": [],
   "source": [
    "# YOUR CODE HERE\n",
    "# import libraries\n"
   ]
  },
  {
   "cell_type": "markdown",
   "metadata": {},
   "source": [
    "## Activities changes\n",
    "\n",
    "Use the dataset that you have been working on in the previous assignments. Pick either a city or a province, then recreate the diagram for one of the activities, similar to those that are shown in [Google mobility reports](https://www.gstatic.com/covid19/mobility/2021-09-28_AW_Mobility_Report_en.pdf) or as below.\n",
    "\n",
    "<img src=\"Images/Transit_changes.png\" alt=\"drawing\" width=\"600\"/>"
   ]
  },
  {
   "cell_type": "markdown",
   "metadata": {},
   "source": [
    "### Remarks:\n",
    "- Create readable graphs by providing appropriate ticks, labels, titles, colorbars, legends\n",
    "- [Hint] A possible [function](https://matplotlib.org/stable/api/_as_gen/matplotlib.axes.Axes.fill_between.html#matplotlib.axes.Axes.fill_between) to fill areas between lines\n",
    "- [Optional] If you are ambitous, you can use subplots to also include the left part of the figure, which shows the percentages as below\n",
    " <img src=\"Images/Transit_changes_text.png\" alt=\"drawing\" width=\"200\"/>"
   ]
  },
  {
   "cell_type": "code",
   "execution_count": null,
   "metadata": {},
   "outputs": [],
   "source": [
    "# YOUR CODE HERE\n"
   ]
  },
  {
   "cell_type": "markdown",
   "metadata": {
    "heading_collapsed": true
   },
   "source": [
    "## Multiple lines in the same plot\n",
    "\n",
    "In the previous question, you created a figure for a single city/province. Now, include multiple cities or provinces in a single figure. This time, make the diagram interactive, such as being be to select/deselect particular cities/provinces.\n"
   ]
  },
  {
   "cell_type": "markdown",
   "metadata": {
    "heading_collapsed": true,
    "hidden": true
   },
   "source": [
    "### Remarks\n",
    "\n",
    "- You donot need to fill areas between the lines for the multiple lines plot here\n",
    "- [Hint] If you are to use plotly express, you can use `color` argument in [px.line](https://plotly.com/python-api-reference/generated/plotly.express.line)\n"
   ]
  },
  {
   "cell_type": "code",
   "execution_count": 2,
   "metadata": {
    "hidden": true
   },
   "outputs": [],
   "source": [
    "# YOUR CODE HERE\n"
   ]
  },
  {
   "cell_type": "markdown",
   "metadata": {
    "heading_collapsed": true
   },
   "source": [
    "## Geospatial choropleth\n",
    "\n",
    "Visualise the percentage changes from the baseline at either city-level or province-level in a geographical map for a chosen day.\n",
    "\n",
    "[Hint] Here is an example of municipal boundaries of Netherlands. You can download the municipal boundaries of Netherlands from this [link](https://geodata.nationaalgeoregister.nl/cbsgebiedsindelingen/wfs?request=GetFeature&service=WFS&version=2.0.0&typeName=cbs_gemeente_2017_gegeneraliseerd&outputFormat=json) and here is some [code](https://www.cbs.nl/en-gb/onze-diensten/open-data/statline-as-open-data/cartography) to read this file as well.\n",
    "\n",
    "If you cannot find the boundary of your selected country. Feel free to use Netherlands data for this question.\n",
    "\n",
    "DO NOT forget to label the appropriate axes for the visualisations\n",
    "\n",
    "[Optional] Plot and animate for multiple days"
   ]
  },
  {
   "cell_type": "code",
   "execution_count": 3,
   "metadata": {
    "hidden": true
   },
   "outputs": [],
   "source": [
    "# YOUR CODE HERE\n"
   ]
  }
 ],
 "metadata": {
  "interpreter": {
   "hash": "aee8b7b246df8f9039afb4144a1f6fd8d2ca17a180786b69acc140d282b71a49"
  },
  "kernelspec": {
   "display_name": "Python 3 (ipykernel)",
   "language": "python",
   "name": "python3"
  },
  "language_info": {
   "codemirror_mode": {
    "name": "ipython",
    "version": 3
   },
   "file_extension": ".py",
   "mimetype": "text/x-python",
   "name": "python",
   "nbconvert_exporter": "python",
   "pygments_lexer": "ipython3",
   "version": "3.7.11"
  }
 },
 "nbformat": 4,
 "nbformat_minor": 2
}
