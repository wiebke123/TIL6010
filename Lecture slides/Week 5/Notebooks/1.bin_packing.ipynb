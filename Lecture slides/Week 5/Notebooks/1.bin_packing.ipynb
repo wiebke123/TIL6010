{
 "cells": [
  {
   "cell_type": "markdown",
   "id": "b1bf504a",
   "metadata": {},
   "source": [
    "<h1>Box</h1>"
   ]
  },
  {
   "cell_type": "code",
   "execution_count": 2,
   "id": "6094bc41",
   "metadata": {},
   "outputs": [],
   "source": [
    "# Class defining a box with load capacity\n",
    "class Box:\n",
    "    \n",
    "    def __init__(self, capacity):\n",
    "        self.capacity = capacity\n",
    "        self._items = []\n",
    "        self._load = 0\n",
    "        \n",
    "    def can_fit(self, item):\n",
    "        return self.space() >= item\n",
    "    \n",
    "    def space(self):\n",
    "        return self.capacity - self._load\n",
    "    \n",
    "    def add_item(self, item):\n",
    "        if not self.can_fit(item):\n",
    "            raise Exception('Item of size %i does not fit.' % item)\n",
    "        self._items.append(item)\n",
    "        self._load += item\n",
    "    \n",
    "    def get_load(self):\n",
    "        return self._load\n",
    "    \n",
    "    def __repr__(self):\n",
    "        return 'Box %s (%i)' % (self._items, self.space())\n",
    "    \n",
    "    def __str__(self):\n",
    "        return 'Box %s (%i)' % (self._items, self.space())"
   ]
  },
  {
   "cell_type": "markdown",
   "id": "ffb7053e",
   "metadata": {},
   "source": [
    "<b>Question</b><br>Why <code>_items</code> and <code>_load</code>?"
   ]
  },
  {
   "cell_type": "code",
   "execution_count": 4,
   "id": "fdfdced8",
   "metadata": {},
   "outputs": [
    {
     "ename": "Exception",
     "evalue": "Item of size 13 does not fit.",
     "output_type": "error",
     "traceback": [
      "\u001b[1;31m---------------------------------------------------------------------------\u001b[0m",
      "\u001b[1;31mException\u001b[0m                                 Traceback (most recent call last)",
      "\u001b[1;32m<ipython-input-4-8a3f38d0b0c1>\u001b[0m in \u001b[0;36m<module>\u001b[1;34m\u001b[0m\n\u001b[0;32m      1\u001b[0m \u001b[0mbox\u001b[0m \u001b[1;33m=\u001b[0m \u001b[0mBox\u001b[0m\u001b[1;33m(\u001b[0m\u001b[1;36m12\u001b[0m\u001b[1;33m)\u001b[0m\u001b[1;33m\u001b[0m\u001b[1;33m\u001b[0m\u001b[0m\n\u001b[1;32m----> 2\u001b[1;33m \u001b[0mbox\u001b[0m\u001b[1;33m.\u001b[0m\u001b[0madd_item\u001b[0m\u001b[1;33m(\u001b[0m\u001b[1;36m13\u001b[0m\u001b[1;33m)\u001b[0m\u001b[1;33m\u001b[0m\u001b[1;33m\u001b[0m\u001b[0m\n\u001b[0m\u001b[0;32m      3\u001b[0m \u001b[1;32mif\u001b[0m \u001b[0mbox\u001b[0m\u001b[1;33m.\u001b[0m\u001b[0mcan_fit\u001b[0m\u001b[1;33m(\u001b[0m\u001b[1;36m3\u001b[0m\u001b[1;33m)\u001b[0m\u001b[1;33m:\u001b[0m\u001b[1;33m\u001b[0m\u001b[1;33m\u001b[0m\u001b[0m\n\u001b[0;32m      4\u001b[0m     \u001b[0mprint\u001b[0m\u001b[1;33m(\u001b[0m\u001b[1;34m'it fits'\u001b[0m\u001b[1;33m)\u001b[0m\u001b[1;33m\u001b[0m\u001b[1;33m\u001b[0m\u001b[0m\n\u001b[0;32m      5\u001b[0m \u001b[1;32melse\u001b[0m\u001b[1;33m:\u001b[0m\u001b[1;33m\u001b[0m\u001b[1;33m\u001b[0m\u001b[0m\n",
      "\u001b[1;32m<ipython-input-2-88702311455a>\u001b[0m in \u001b[0;36madd_item\u001b[1;34m(self, item)\u001b[0m\n\u001b[0;32m     15\u001b[0m     \u001b[1;32mdef\u001b[0m \u001b[0madd_item\u001b[0m\u001b[1;33m(\u001b[0m\u001b[0mself\u001b[0m\u001b[1;33m,\u001b[0m \u001b[0mitem\u001b[0m\u001b[1;33m)\u001b[0m\u001b[1;33m:\u001b[0m\u001b[1;33m\u001b[0m\u001b[1;33m\u001b[0m\u001b[0m\n\u001b[0;32m     16\u001b[0m         \u001b[1;32mif\u001b[0m \u001b[1;32mnot\u001b[0m \u001b[0mself\u001b[0m\u001b[1;33m.\u001b[0m\u001b[0mcan_fit\u001b[0m\u001b[1;33m(\u001b[0m\u001b[0mitem\u001b[0m\u001b[1;33m)\u001b[0m\u001b[1;33m:\u001b[0m\u001b[1;33m\u001b[0m\u001b[1;33m\u001b[0m\u001b[0m\n\u001b[1;32m---> 17\u001b[1;33m             \u001b[1;32mraise\u001b[0m \u001b[0mException\u001b[0m\u001b[1;33m(\u001b[0m\u001b[1;34m'Item of size %i does not fit.'\u001b[0m \u001b[1;33m%\u001b[0m \u001b[0mitem\u001b[0m\u001b[1;33m)\u001b[0m\u001b[1;33m\u001b[0m\u001b[1;33m\u001b[0m\u001b[0m\n\u001b[0m\u001b[0;32m     18\u001b[0m         \u001b[0mself\u001b[0m\u001b[1;33m.\u001b[0m\u001b[0m_items\u001b[0m\u001b[1;33m.\u001b[0m\u001b[0mappend\u001b[0m\u001b[1;33m(\u001b[0m\u001b[0mitem\u001b[0m\u001b[1;33m)\u001b[0m\u001b[1;33m\u001b[0m\u001b[1;33m\u001b[0m\u001b[0m\n\u001b[0;32m     19\u001b[0m         \u001b[0mself\u001b[0m\u001b[1;33m.\u001b[0m\u001b[0m_load\u001b[0m \u001b[1;33m+=\u001b[0m \u001b[0mitem\u001b[0m\u001b[1;33m\u001b[0m\u001b[1;33m\u001b[0m\u001b[0m\n",
      "\u001b[1;31mException\u001b[0m: Item of size 13 does not fit."
     ]
    }
   ],
   "source": [
    "box = Box(12)\n",
    "box.add_item(13)\n",
    "if box.can_fit(3):\n",
    "    print('it fits')\n",
    "else:\n",
    "    print('it does not fit')"
   ]
  },
  {
   "cell_type": "markdown",
   "id": "cebeef6b",
   "metadata": {},
   "source": [
    "<h1>Heuristics</h1>"
   ]
  },
  {
   "cell_type": "code",
   "execution_count": 5,
   "id": "fc4925bb",
   "metadata": {},
   "outputs": [],
   "source": [
    "def next_fit(items, box_size):\n",
    "    \n",
    "    # initialize boxes\n",
    "    current_box = Box(box_size)\n",
    "    boxes = [current_box]\n",
    "    \n",
    "    # loop items\n",
    "    for item in items:\n",
    " \n",
    "        if not current_box.can_fit(item):\n",
    "            current_box = Box(box_size)\n",
    "            boxes.append(current_box)\n",
    "        current_box.add_item(item)\n",
    "    \n",
    "    # return list of boxes\n",
    "    return boxes"
   ]
  },
  {
   "cell_type": "markdown",
   "id": "b3b07da9",
   "metadata": {},
   "source": [
    "<b>Challenge</b><br>There is duplicate code in the above function. How to streamline this?<br><i>Hint: what would you do first, to guarentee you can place the item in the current box?</i>"
   ]
  },
  {
   "cell_type": "code",
   "execution_count": 6,
   "id": "e6653bfc",
   "metadata": {},
   "outputs": [],
   "source": [
    "def next_k_fit(items, box_size, k):\n",
    "    \n",
    "    # initialize boxes\n",
    "    boxes = []\n",
    "    \n",
    "    # loop items\n",
    "    for item in items:\n",
    "        \n",
    "        # place in first box where item fits\n",
    "        for box in boxes[-k:]:\n",
    "            if box.can_fit(item):\n",
    "                box.add_item(item)\n",
    "                break\n",
    "                \n",
    "        # add new empty box if needed\n",
    "        else:\n",
    "            box = Box(box_size)\n",
    "            box.add_item(item)\n",
    "            boxes.append(box)\n",
    "    \n",
    "    # return list of boxes\n",
    "    return boxes"
   ]
  },
  {
   "cell_type": "markdown",
   "id": "f8eb5d85",
   "metadata": {},
   "source": [
    "<b>For-else</b><br>The above method can use <code>for-else</code>."
   ]
  },
  {
   "cell_type": "markdown",
   "id": "f4266c03",
   "metadata": {},
   "source": [
    "<b>Challenge</b><br>Can we get rid of <code>k_boxes</code>? How?"
   ]
  },
  {
   "cell_type": "code",
   "execution_count": 8,
   "id": "5db1f14e",
   "metadata": {},
   "outputs": [],
   "source": [
    "def first_fit(items, box_size):\n",
    "    \n",
    "    # initialize boxes\n",
    "    boxes = []\n",
    "    \n",
    "    # loop items\n",
    "    for item in items:\n",
    "        \n",
    "        # place in first box where item fits\n",
    "        for box in boxes:\n",
    "            if box.can_fit(item):\n",
    "                box.add_item(item)\n",
    "                break # do not check further boxes, the item was packed\n",
    "        \n",
    "        # add new empty box if needed\n",
    "        else:\n",
    "            box = Box(box_size)\n",
    "            box.add_item(item)\n",
    "            boxes.append(box)\n",
    "            \n",
    "    # return list of boxes\n",
    "    return boxes"
   ]
  },
  {
   "cell_type": "code",
   "execution_count": 9,
   "id": "7a66091b",
   "metadata": {},
   "outputs": [],
   "source": [
    "def best_fit(items, box_size):\n",
    "    \n",
    "    # initialize boxes\n",
    "    boxes = []\n",
    "    \n",
    "    # loop items\n",
    "    for item in items:\n",
    "        \n",
    "        # find the best box\n",
    "        best_box = None\n",
    "        for box in boxes:\n",
    "            if box.can_fit(item) and (not best_box or box.space() < best_box.space()):\n",
    "                best_box = box\n",
    "        \n",
    "        # add new empty box if needed\n",
    "        if best_box == None:\n",
    "            box = Box(box_size)\n",
    "            box.add_item(item)\n",
    "            boxes.append(box)\n",
    "            \n",
    "        # or add item to the best box\n",
    "        else:\n",
    "            best_box.add_item(item)\n",
    "            \n",
    "    # return list of boxes\n",
    "    return boxes"
   ]
  },
  {
   "cell_type": "markdown",
   "id": "8cd32f41",
   "metadata": {},
   "source": [
    "<b>Challenge</b><br>There is a bug in the above function. Where is it?<br><i>Hint: run through the logic when placing the second item.</i>"
   ]
  },
  {
   "cell_type": "markdown",
   "id": "f63be6c1",
   "metadata": {},
   "source": [
    "Helper function to print boxes in a vertical list."
   ]
  },
  {
   "cell_type": "code",
   "execution_count": 10,
   "id": "d29e687f",
   "metadata": {},
   "outputs": [],
   "source": [
    "# Print solution of boxes\n",
    "def print_boxes(boxes):\n",
    "    space = 0\n",
    "    for box in boxes:\n",
    "        print(box)\n",
    "        space += box.space()\n",
    "    print('Total space: %i' % space)"
   ]
  },
  {
   "cell_type": "code",
   "execution_count": 15,
   "id": "7c55f1bd",
   "metadata": {},
   "outputs": [
    {
     "name": "stdout",
     "output_type": "stream",
     "text": [
      "Box [6, 2] (1)\n",
      "Box [6, 2] (1)\n",
      "Box [5, 4] (0)\n",
      "Box [5, 4] (0)\n",
      "Box [5, 4] (0)\n",
      "Box [4, 2, 2] (1)\n",
      "Box [3, 3] (3)\n",
      "Box [7] (2)\n",
      "Box [7] (2)\n",
      "Box [5, 4] (0)\n",
      "Box [5, 4] (0)\n",
      "Box [8] (1)\n",
      "Box [8] (1)\n",
      "Box [5] (4)\n",
      "Total space: 16\n",
      "Box [6] (3)\n",
      "Box [6] (3)\n",
      "Box [5, 4] (0)\n",
      "Box [5, 4] (0)\n",
      "Box [5, 4] (0)\n",
      "Box [4, 2, 2] (1)\n",
      "Box [2, 2, 3] (2)\n",
      "Box [3, 5] (1)\n",
      "Box [7] (2)\n",
      "Box [7] (2)\n",
      "Box [5, 4] (0)\n",
      "Box [8] (1)\n",
      "Box [8] (1)\n",
      "Box [4, 5] (0)\n",
      "Total space: 16\n"
     ]
    }
   ],
   "source": [
    "#items = [5, 6, 3]\n",
    "items = [6, 6, 5, 5, 5, 4, 4, 4, 4, 2, 2, 2, 2, 3, 3, 7, 7, 5, 5, 8, 8, 4, 4, 5]\n",
    "\n",
    "box_size = 9\n",
    "\n",
    "# next_fit  next_k_fit  first_fit  best_fit\n",
    "boxes = first_fit(items, box_size)\n",
    "print_boxes(boxes)\n",
    "\n",
    "boxes = next_k_fit(items, box_size, 3)\n",
    "print_boxes(boxes)"
   ]
  },
  {
   "cell_type": "markdown",
   "id": "299d8d0e",
   "metadata": {},
   "source": [
    "<b>Challenge</b><br>How to implement <i>off-line</i> packing algorithms?"
   ]
  },
  {
   "cell_type": "code",
   "execution_count": 16,
   "id": "30052bf1",
   "metadata": {},
   "outputs": [
    {
     "name": "stdout",
     "output_type": "stream",
     "text": [
      "Box [8] (1)\n",
      "Box [8] (1)\n",
      "Box [7, 2] (0)\n",
      "Box [7, 2] (0)\n",
      "Box [6, 3] (0)\n",
      "Box [6, 3] (0)\n",
      "Box [5, 4] (0)\n",
      "Box [5, 4] (0)\n",
      "Box [5, 4] (0)\n",
      "Box [5, 4] (0)\n",
      "Box [5, 4] (0)\n",
      "Box [5, 4] (0)\n",
      "Box [2, 2] (5)\n",
      "Total space: 7\n"
     ]
    }
   ],
   "source": [
    "boxes = first_fit(sorted(items, reverse=True), box_size)\n",
    "print_boxes(boxes)"
   ]
  },
  {
   "cell_type": "markdown",
   "id": "b7dc6f8b",
   "metadata": {},
   "source": [
    "<h1>Enum</h1>"
   ]
  },
  {
   "cell_type": "code",
   "execution_count": 18,
   "id": "723865c1",
   "metadata": {},
   "outputs": [],
   "source": [
    "from enum import Enum\n",
    "\n",
    "# Enum of bin packing heuristics\n",
    "class Heuristic(Enum):\n",
    "    \n",
    "    NEXT_FIT = 1\n",
    "    NEXT_K_FIT = 2\n",
    "    FIRST_FIT = 3\n",
    "    BEST_FIT = 4\n",
    "    \n",
    "    # Bin pack items\n",
    "    def pack(self, items, k=1):\n",
    "        if self == Heuristic.NEXT_FIT:\n",
    "            return next_k_fit(items, box_size, 1)\n",
    "        if self == Heuristic.NEXT_K_FIT:\n",
    "            return next_k_fit(items, box_size, k)\n",
    "        if self == Heuristic.FIRST_FIT:\n",
    "            return next_k_fit(items, box_size, float('inf'))\n",
    "        if self == Heuristic.BEST_FIT:\n",
    "            return best_fit(items, box_size)"
   ]
  },
  {
   "cell_type": "markdown",
   "id": "a6c7acfb",
   "metadata": {},
   "source": [
    "<b>Challenge</b><br>Can we reduce the overall code that we need?<br><i>Hint: what heuristic(s) are special cases of other heuristic(s)?</i>"
   ]
  },
  {
   "cell_type": "code",
   "execution_count": 296,
   "id": "d03b6c1a",
   "metadata": {},
   "outputs": [
    {
     "name": "stdout",
     "output_type": "stream",
     "text": [
      "NEXT_FIT\n",
      "NEXT_K_FIT\n",
      "FIRST_FIT\n",
      "BEST_FIT\n"
     ]
    }
   ],
   "source": [
    "# values can be looped\n",
    "for heuristic in Heuristic:\n",
    "    print(heuristic.name)"
   ]
  },
  {
   "cell_type": "code",
   "execution_count": 19,
   "id": "bf1f9b18",
   "metadata": {},
   "outputs": [
    {
     "name": "stdout",
     "output_type": "stream",
     "text": [
      "Box [6, 2] (1)\n",
      "Box [6, 2] (1)\n",
      "Box [5, 4] (0)\n",
      "Box [5, 4] (0)\n",
      "Box [5, 4] (0)\n",
      "Box [4, 2, 2] (1)\n",
      "Box [3, 3] (3)\n",
      "Box [7] (2)\n",
      "Box [7] (2)\n",
      "Box [5, 4] (0)\n",
      "Box [5, 4] (0)\n",
      "Box [8] (1)\n",
      "Box [8] (1)\n",
      "Box [5] (4)\n",
      "Total space: 16\n"
     ]
    }
   ],
   "source": [
    "# function to print result of any heuristic it is given\n",
    "def solve_and_print(heuristic, items, k=1):\n",
    "    print_boxes(heuristic.pack(items, k))\n",
    "    \n",
    "solve_and_print(Heuristic.FIRST_FIT, items)"
   ]
  }
 ],
 "metadata": {
  "kernelspec": {
   "display_name": "Python 3",
   "language": "python",
   "name": "python3"
  },
  "language_info": {
   "codemirror_mode": {
    "name": "ipython",
    "version": 3
   },
   "file_extension": ".py",
   "mimetype": "text/x-python",
   "name": "python",
   "nbconvert_exporter": "python",
   "pygments_lexer": "ipython3",
   "version": "3.8.8"
  }
 },
 "nbformat": 4,
 "nbformat_minor": 5
}
