{
 "cells": [
  {
   "cell_type": "code",
   "execution_count": 6,
   "id": "daf8d608",
   "metadata": {},
   "outputs": [
    {
     "name": "stdout",
     "output_type": "stream",
     "text": [
      "C:\n"
     ]
    }
   ],
   "source": [
    "import os\n",
    "\n",
    "# get enviroment variable\n",
    "print(os.getenv('HOMEDRIVE'))"
   ]
  },
  {
   "cell_type": "code",
   "execution_count": 9,
   "id": "a37021d5",
   "metadata": {},
   "outputs": [
    {
     "name": "stdout",
     "output_type": "stream",
     "text": [
      "True\n",
      "False\n"
     ]
    }
   ],
   "source": [
    "print(os.path.exists('C:/TUDelft/'))\n",
    "print(os.path.exists('C:/LikelyNotAFolder/'))"
   ]
  },
  {
   "cell_type": "code",
   "execution_count": 12,
   "id": "ef069051",
   "metadata": {},
   "outputs": [
    {
     "name": "stdout",
     "output_type": "stream",
     "text": [
      "C:\\TUDelft\\Education\\TIL6010 Programming and Matlab\\2021-2022\\workingfolder\n"
     ]
    }
   ],
   "source": [
    "print(os.getcwd())"
   ]
  },
  {
   "cell_type": "code",
   "execution_count": 15,
   "id": "81924473",
   "metadata": {},
   "outputs": [
    {
     "name": "stdout",
     "output_type": "stream",
     "text": [
      "C:\\TUDelft\\Education\\TIL6010 Programming and Matlab\\2021-2022\\workingfolder\\NewFolder\n"
     ]
    }
   ],
   "source": [
    "path = os.path.join(os.getcwd(), 'NewFolder')\n",
    "print(path)"
   ]
  },
  {
   "cell_type": "code",
   "execution_count": 28,
   "id": "789593cc",
   "metadata": {},
   "outputs": [
    {
     "name": "stdout",
     "output_type": "stream",
     "text": [
      "['.ipynb_checkpoints', '1.primitive_types.ipynb', '2.builtin_data_structures.ipynb', '3.os_library.ipynb']\n",
      "['.ipynb_checkpoints', '1.primitive_types.ipynb', '2.builtin_data_structures.ipynb', '3.os_library.ipynb', 'NewFolder']\n"
     ]
    }
   ],
   "source": [
    "try:\n",
    "    os.rmdir(path) # this line is only here for repeated execution of this block\n",
    "except:\n",
    "    pass           # ignore of the folder isn't there\n",
    "\n",
    "print(os.listdir(os.getcwd()))\n",
    "os.mkdir(path)\n",
    "print(os.listdir(os.getcwd()))"
   ]
  },
  {
   "cell_type": "code",
   "execution_count": 32,
   "id": "77f4f86c",
   "metadata": {},
   "outputs": [
    {
     "ename": "FileNotFoundError",
     "evalue": "[WinError 2] The system cannot find the file specified: 'New Text Document.txt'",
     "output_type": "error",
     "traceback": [
      "\u001b[1;31m---------------------------------------------------------------------------\u001b[0m",
      "\u001b[1;31mFileNotFoundError\u001b[0m                         Traceback (most recent call last)",
      "\u001b[1;32m<ipython-input-32-b3973fbab496>\u001b[0m in \u001b[0;36m<module>\u001b[1;34m\u001b[0m\n\u001b[1;32m----> 1\u001b[1;33m \u001b[0mos\u001b[0m\u001b[1;33m.\u001b[0m\u001b[0mremove\u001b[0m\u001b[1;33m(\u001b[0m\u001b[1;34m'New Text Document.txt'\u001b[0m\u001b[1;33m)\u001b[0m\u001b[1;33m\u001b[0m\u001b[1;33m\u001b[0m\u001b[0m\n\u001b[0m",
      "\u001b[1;31mFileNotFoundError\u001b[0m: [WinError 2] The system cannot find the file specified: 'New Text Document.txt'"
     ]
    }
   ],
   "source": [
    "os.remove('New Text Document.txt')"
   ]
  }
 ],
 "metadata": {
  "kernelspec": {
   "display_name": "Python 3",
   "language": "python",
   "name": "python3"
  },
  "language_info": {
   "codemirror_mode": {
    "name": "ipython",
    "version": 3
   },
   "file_extension": ".py",
   "mimetype": "text/x-python",
   "name": "python",
   "nbconvert_exporter": "python",
   "pygments_lexer": "ipython3",
   "version": "3.8.8"
  }
 },
 "nbformat": 4,
 "nbformat_minor": 5
}
