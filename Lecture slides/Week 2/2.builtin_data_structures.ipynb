{
 "cells": [
  {
   "cell_type": "markdown",
   "id": "99c1c5cf",
   "metadata": {},
   "source": [
    "<h1>Tuples and Lists</h1>"
   ]
  },
  {
   "cell_type": "code",
   "execution_count": 196,
   "id": "ac7b8bda",
   "metadata": {},
   "outputs": [
    {
     "name": "stdout",
     "output_type": "stream",
     "text": [
      "some text\n",
      "4\n"
     ]
    }
   ],
   "source": [
    "a = (True, 1, 2.0, 'some text')  # Tuple\n",
    "b = [1, 2, 3, 4, 5, 6]           # List\n",
    "print(a[3])\n",
    "print(b[3])"
   ]
  },
  {
   "cell_type": "code",
   "execution_count": 197,
   "id": "67d30c3c",
   "metadata": {},
   "outputs": [
    {
     "name": "stdout",
     "output_type": "stream",
     "text": [
      "[1, 2, 3, 4, 5, 6, '7']\n"
     ]
    }
   ],
   "source": [
    "b.append('7')\n",
    "print(b)"
   ]
  },
  {
   "cell_type": "code",
   "execution_count": 198,
   "id": "65e589eb",
   "metadata": {},
   "outputs": [
    {
     "name": "stdout",
     "output_type": "stream",
     "text": [
      "[1, 2, 3, -4, 5, 6, '7']\n"
     ]
    }
   ],
   "source": [
    "b[3] = -4\n",
    "print(b)"
   ]
  },
  {
   "cell_type": "code",
   "execution_count": 199,
   "id": "6f4c5002",
   "metadata": {},
   "outputs": [
    {
     "name": "stdout",
     "output_type": "stream",
     "text": [
      "[1, 2, 3, -4, -4, 5, 6, '7']\n"
     ]
    }
   ],
   "source": [
    "b.insert(3, -4)\n",
    "print(b)"
   ]
  },
  {
   "cell_type": "code",
   "execution_count": 209,
   "id": "8bfb7ca6",
   "metadata": {},
   "outputs": [
    {
     "name": "stdout",
     "output_type": "stream",
     "text": [
      "False\n"
     ]
    }
   ],
   "source": [
    "c = [1, 2, 3, 4]\n",
    "d = [4, 3, 2, 1]\n",
    "print(c == d)"
   ]
  },
  {
   "cell_type": "markdown",
   "id": "058c2c48",
   "metadata": {},
   "source": [
    "<h1>Sets and FrozenSets</h1>"
   ]
  },
  {
   "cell_type": "code",
   "execution_count": 208,
   "id": "3993469c",
   "metadata": {},
   "outputs": [
    {
     "name": "stdout",
     "output_type": "stream",
     "text": [
      "{True, 2.0, 'some text'}\n",
      "(True, 1, 2.0, 'some text')\n"
     ]
    }
   ],
   "source": [
    "e = set(a)\n",
    "print(e)\n",
    "print(a)"
   ]
  },
  {
   "cell_type": "markdown",
   "id": "72ccc2c3",
   "metadata": {},
   "source": [
    "Why is the <code>1</code> from <code>a</code> not in <code>e</code>?"
   ]
  },
  {
   "cell_type": "code",
   "execution_count": 202,
   "id": "14745ae6",
   "metadata": {},
   "outputs": [
    {
     "name": "stdout",
     "output_type": "stream",
     "text": [
      "{1, 2, 3, 5, 6, '7', -4}\n",
      "[1, 2, 3, -4, -4, 5, 6, '7']\n"
     ]
    }
   ],
   "source": [
    "f = set(b)\n",
    "print(f)\n",
    "print(b)"
   ]
  },
  {
   "cell_type": "code",
   "execution_count": 210,
   "id": "44b023c3",
   "metadata": {},
   "outputs": [
    {
     "name": "stdout",
     "output_type": "stream",
     "text": [
      "True\n"
     ]
    }
   ],
   "source": [
    "g = {1, 2, 3, 4}\n",
    "h = {4, 3, 2, 1}\n",
    "print(g == h)"
   ]
  },
  {
   "cell_type": "markdown",
   "id": "ae6bd7ca",
   "metadata": {},
   "source": [
    "Why is this <code>True</code>, when it was <code>False</code> for <code>List</code>s?"
   ]
  },
  {
   "cell_type": "code",
   "execution_count": 220,
   "id": "767de324",
   "metadata": {},
   "outputs": [
    {
     "name": "stdout",
     "output_type": "stream",
     "text": [
      "{'grape', 'banana', 'apple'}\n",
      "{'grape', 'pear', 'banana', 'apple'}\n"
     ]
    }
   ],
   "source": [
    "fruits = {'apple', 'banana', 'grape'}\n",
    "print(fruits)                          # different order from initialization\n",
    "fruits.add('pear')\n",
    "print(fruits)                          # 'pear' inserted"
   ]
  },
  {
   "cell_type": "code",
   "execution_count": 221,
   "id": "820e5ad9",
   "metadata": {},
   "outputs": [
    {
     "name": "stdout",
     "output_type": "stream",
     "text": [
      "{'pear', 'banana', 'apple', 'grape', 'mandarine'}\n"
     ]
    }
   ],
   "source": [
    "fruits.add('mandarine')\n",
    "print(fruits)                          # order of existing elements changed"
   ]
  },
  {
   "cell_type": "code",
   "execution_count": 223,
   "id": "4ac4448b",
   "metadata": {},
   "outputs": [
    {
     "name": "stdout",
     "output_type": "stream",
     "text": [
      "{'pear', 'banana', 'apple', 'grape', 'mandarine'}\n"
     ]
    }
   ],
   "source": [
    "fruits.add('pear')\n",
    "print(fruits)"
   ]
  },
  {
   "cell_type": "code",
   "execution_count": 236,
   "id": "dc6831d3",
   "metadata": {},
   "outputs": [
    {
     "name": "stdout",
     "output_type": "stream",
     "text": [
      "{'pear', 'banana', 'apple', 'guave', 'grape', 'mango', 'mandarine'}\n"
     ]
    }
   ],
   "source": [
    "fruits.update({'mango', 'guave'})\n",
    "print(fruits)"
   ]
  },
  {
   "cell_type": "markdown",
   "id": "cf9c3292",
   "metadata": {},
   "source": [
    "There are many more interesting methods for sets, such as <code>intersect()</code> and <code>isdisjoint()</code>. A good read can be found [here](https://www.programiz.com/python-programming/set)."
   ]
  },
  {
   "cell_type": "markdown",
   "id": "2eb3a573",
   "metadata": {},
   "source": [
    "(back to powerpoint)"
   ]
  },
  {
   "cell_type": "code",
   "execution_count": 388,
   "id": "7b397ae3",
   "metadata": {},
   "outputs": [
    {
     "name": "stdout",
     "output_type": "stream",
     "text": [
      "{'grape', 'banana', 'apple'}\n"
     ]
    }
   ],
   "source": [
    "frozen_fruits = frozenset(fruits)\n",
    "unique_fruits = set(['apple', 'banana', 'grape', 'apple', 'grape'])\n",
    "print(unique_fruits)"
   ]
  },
  {
   "cell_type": "markdown",
   "id": "581dd77f",
   "metadata": {},
   "source": [
    "(back to powerpoint)"
   ]
  },
  {
   "cell_type": "markdown",
   "id": "4fea795f",
   "metadata": {},
   "source": [
    "<h1>Ranges</h1>"
   ]
  },
  {
   "cell_type": "code",
   "execution_count": 1,
   "id": "939037b5",
   "metadata": {},
   "outputs": [
    {
     "name": "stdout",
     "output_type": "stream",
     "text": [
      "0\n",
      "2\n",
      "4\n",
      "6\n",
      "8\n"
     ]
    }
   ],
   "source": [
    "numbers = [0, 2, 4, 6, 8]\n",
    "for i in numbers:\n",
    "    print(i)"
   ]
  },
  {
   "cell_type": "code",
   "execution_count": 248,
   "id": "3c0abb54",
   "metadata": {},
   "outputs": [
    {
     "name": "stdout",
     "output_type": "stream",
     "text": [
      "0\n",
      "2\n",
      "4\n",
      "6\n",
      "8\n"
     ]
    }
   ],
   "source": [
    "start = 0\n",
    "end = 9\n",
    "step = 2\n",
    "for i in range(start, end, step):\n",
    "    print(i)"
   ]
  },
  {
   "cell_type": "code",
   "execution_count": 262,
   "id": "3d126ab3",
   "metadata": {},
   "outputs": [
    {
     "name": "stdout",
     "output_type": "stream",
     "text": [
      "range(2, 12, 3)\n"
     ]
    }
   ],
   "source": [
    "j = range(2, 12, 3)\n",
    "print(j)"
   ]
  },
  {
   "cell_type": "markdown",
   "id": "fee78f62",
   "metadata": {},
   "source": [
    "<b>Quiz!</b>|"
   ]
  },
  {
   "cell_type": "code",
   "execution_count": 2,
   "id": "e0491a07",
   "metadata": {},
   "outputs": [],
   "source": [
    "for i in range(6, 2):\n",
    "    print(i)"
   ]
  },
  {
   "cell_type": "markdown",
   "id": "3504f427",
   "metadata": {},
   "source": [
    "<h1>Dictionaries</h1>"
   ]
  },
  {
   "cell_type": "code",
   "execution_count": 380,
   "id": "4cd653a8",
   "metadata": {},
   "outputs": [
    {
     "name": "stdout",
     "output_type": "stream",
     "text": [
      "{'John': 1.0, 'Jane': 2.0, 'Jamie': 3.0}\n"
     ]
    }
   ],
   "source": [
    "k = {'John': 1.0, 'Jane': 2.0, 'Jamie': 3.0}\n",
    "print(k)"
   ]
  },
  {
   "cell_type": "code",
   "execution_count": 381,
   "id": "5e240a41",
   "metadata": {},
   "outputs": [
    {
     "name": "stdout",
     "output_type": "stream",
     "text": [
      "length = 3\n",
      "4.0\n"
     ]
    }
   ],
   "source": [
    "k['John'] = 4.0\n",
    "print('length = ' + str(len(k)))\n",
    "print(k['John'])"
   ]
  },
  {
   "cell_type": "code",
   "execution_count": 382,
   "id": "6b43a84f",
   "metadata": {},
   "outputs": [
    {
     "name": "stdout",
     "output_type": "stream",
     "text": [
      "dict_keys(['John', 'Jane', 'Jamie'])\n",
      "dict_values([4.0, 2.0, 3.0])\n"
     ]
    }
   ],
   "source": [
    "keys = k.keys()\n",
    "values = k.values()\n",
    "print(keys)\n",
    "print(values)"
   ]
  },
  {
   "cell_type": "code",
   "execution_count": 383,
   "id": "6f817266",
   "metadata": {},
   "outputs": [
    {
     "name": "stdout",
     "output_type": "stream",
     "text": [
      "{'Jane': 2.0, 'Jamie': 3.0}\n",
      "dict_keys(['Jane', 'Jamie'])\n",
      "dict_values([2.0, 3.0])\n"
     ]
    }
   ],
   "source": [
    "k['John'] = 4.0  # this is line is only for repeated execution of this block\n",
    "k.pop('John');   # remove John from the dictionary\n",
    "print(k)\n",
    "print(keys)\n",
    "print(values)"
   ]
  },
  {
   "cell_type": "markdown",
   "id": "592758f0",
   "metadata": {},
   "source": [
    "The <code>keys()</code>, <code>values()</code> and <code>items()</code> methods return 'view objects' on the map that stay updated with the map.<br>\n",
    "<br>\n",
    "No items can be added, changed or removed from these view objects."
   ]
  },
  {
   "cell_type": "markdown",
   "id": "9d87d5a3",
   "metadata": {},
   "source": [
    "(back to powerpoint)"
   ]
  },
  {
   "cell_type": "markdown",
   "id": "b82b3c95",
   "metadata": {},
   "source": [
    "<h1>Classes</h1>"
   ]
  },
  {
   "cell_type": "code",
   "execution_count": 384,
   "id": "634c697d",
   "metadata": {},
   "outputs": [],
   "source": [
    "class Person:\n",
    "    \n",
    "    # properties (a.k.a. attributes, variables)\n",
    "    name = ''\n",
    "    age = 0\n",
    "    \n",
    "    # initialization (called whenever an object of this class is created)\n",
    "    def __init__(self, name, age = 0): # The '= 0' makes the age input optional, it will be 0 when not given\n",
    "        self.name = name\n",
    "        self.age = age\n",
    "    \n",
    "    # provides a string representation of a Person (called with the str() method)\n",
    "    def __str__(self):\n",
    "        return self.name + ', aged ' + str(self.age)\n",
    "    \n",
    "    # specific method for this class that \n",
    "    def its_your_birthday(self):\n",
    "        self.age += 1"
   ]
  },
  {
   "cell_type": "code",
   "execution_count": 385,
   "id": "3b084704",
   "metadata": {},
   "outputs": [
    {
     "name": "stdout",
     "output_type": "stream",
     "text": [
      "Jane, aged 22\n",
      "Jane, aged 23\n"
     ]
    }
   ],
   "source": [
    "jane = Person('Jane', 22)\n",
    "print(jane)\n",
    "jane.its_your_birthday()\n",
    "print(jane)"
   ]
  },
  {
   "cell_type": "code",
   "execution_count": 386,
   "id": "c71b3342",
   "metadata": {},
   "outputs": [
    {
     "name": "stdout",
     "output_type": "stream",
     "text": [
      "Jane\n"
     ]
    }
   ],
   "source": [
    "print(jane.name)"
   ]
  },
  {
   "cell_type": "code",
   "execution_count": 387,
   "id": "9e392881",
   "metadata": {},
   "outputs": [
    {
     "name": "stdout",
     "output_type": "stream",
     "text": [
      "Idefix, aged 23\n"
     ]
    }
   ],
   "source": [
    "jane.name = 'Idefix'\n",
    "print(jane)"
   ]
  },
  {
   "cell_type": "markdown",
   "id": "9ca0ca21",
   "metadata": {},
   "source": [
    "Well, that shouldn't really be possible. By convention, prepend <i>private</i> properties/methods with '_'. A better <code>class</code> is:"
   ]
  },
  {
   "cell_type": "code",
   "execution_count": 371,
   "id": "eda4022e",
   "metadata": {},
   "outputs": [],
   "source": [
    "class Person:\n",
    "    \n",
    "    # properties (a.k.a. attributes, variables)\n",
    "    _name = '' # With '_' to indicate it shouldn't be accessed from the outside\n",
    "    _age = 0\n",
    "    \n",
    "    # initialization (called whenever an object of this class is created)\n",
    "    def __init__(self, name, age = 0): # The '= 0' makes the age input optional, it will be 0 when not given\n",
    "        self._name = name\n",
    "        self._age = age\n",
    "    \n",
    "    # provides a string representation of a Person (called with the str() method)\n",
    "    def __str__(self):\n",
    "        return self._name + ', aged ' + str(self._age)\n",
    "    \n",
    "    # specific method for this class that \n",
    "    def its_your_birthday(self):\n",
    "        self._age += 1\n",
    "\n",
    "    # method to obtain the name\n",
    "    def get_name(self):\n",
    "        return self._name\n",
    "    \n",
    "    # method to obtain the age\n",
    "    def get_age(self):\n",
    "        return self._age"
   ]
  },
  {
   "cell_type": "code",
   "execution_count": 372,
   "id": "2520c379",
   "metadata": {},
   "outputs": [
    {
     "name": "stdout",
     "output_type": "stream",
     "text": [
      "John\n"
     ]
    }
   ],
   "source": [
    "anonymous = Person('John')\n",
    "print(anonymous.get_name())"
   ]
  },
  {
   "cell_type": "markdown",
   "id": "00287bb9",
   "metadata": {},
   "source": [
    "Just as a small example, this is how a <code>class</code> can be extended."
   ]
  },
  {
   "cell_type": "code",
   "execution_count": 376,
   "id": "1a0aed4f",
   "metadata": {},
   "outputs": [],
   "source": [
    "class BetterPerson(Person):\n",
    "    \n",
    "    # Changes the age by dt\n",
    "    def time_travel(self, dt):\n",
    "        self._age += dt"
   ]
  },
  {
   "cell_type": "code",
   "execution_count": 377,
   "id": "e6ec61cb",
   "metadata": {},
   "outputs": [
    {
     "name": "stdout",
     "output_type": "stream",
     "text": [
      "Jamie, aged 16\n"
     ]
    }
   ],
   "source": [
    "jamie = BetterPerson('Jamie', 21)\n",
    "jamie.time_travel(-5)\n",
    "print(jamie)"
   ]
  },
  {
   "cell_type": "markdown",
   "id": "71d92622",
   "metadata": {},
   "source": [
    "(back to powerpoint)"
   ]
  },
  {
   "cell_type": "markdown",
   "id": "20b109fc",
   "metadata": {},
   "source": [
    "Mind the units of numeric values carefully. [Spacecrafts have crashed because of this](https://www.simscale.com/blog/2017/12/nasa-mars-climate-orbiter-metric/)! Preferably use SI units."
   ]
  },
  {
   "cell_type": "code",
   "execution_count": 379,
   "id": "9c32aae5",
   "metadata": {},
   "outputs": [
    {
     "name": "stdout",
     "output_type": "stream",
     "text": [
      "Help on function time_travel in module __main__:\n",
      "\n",
      "time_travel(self, dt)\n",
      "    # Changes the age by dt [years]\n",
      "\n"
     ]
    }
   ],
   "source": [
    "class BetterDocumentedPerson(Person):\n",
    "    \n",
    "    # Changes the age by dt [years]\n",
    "    def time_travel(self, dt):\n",
    "        self._age += dt\n",
    "        \n",
    "help(BetterDocumentedPerson.time_travel)"
   ]
  }
 ],
 "metadata": {
  "kernelspec": {
   "display_name": "Python 3",
   "language": "python",
   "name": "python3"
  },
  "language_info": {
   "codemirror_mode": {
    "name": "ipython",
    "version": 3
   },
   "file_extension": ".py",
   "mimetype": "text/x-python",
   "name": "python",
   "nbconvert_exporter": "python",
   "pygments_lexer": "ipython3",
   "version": "3.8.8"
  }
 },
 "nbformat": 4,
 "nbformat_minor": 5
}
